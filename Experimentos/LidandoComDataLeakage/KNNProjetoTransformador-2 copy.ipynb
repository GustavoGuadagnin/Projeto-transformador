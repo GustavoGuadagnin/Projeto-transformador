{
  "cells": [
    {
      "cell_type": "code",
      "execution_count": 1,
      "metadata": {
        "id": "bt5SF1JvU75Z"
      },
      "outputs": [],
      "source": [
        "# def converter_hora(valor):\n",
        "#     if pd.isna(valor):\n",
        "#         return np.nan\n",
        "#     if valor == 2400:\n",
        "#         valor = 0\n",
        "#     hora_str = f\"{int(valor):04d}\"\n",
        "#     return datetime.time(int(hora_str[:2]), int(hora_str[2:]))\n",
        "# def combinar_data_hora(data, hora):\n",
        "#     if pd.isna(data) or pd.isna(hora):\n",
        "#         return np.nan\n",
        "#     return datetime.datetime.combine(data, hora)\n",
        "# def criar_coluna_datetime(df, col):\n",
        "#     lista = []\n",
        "#     for _, row in df[['DATE', col]].iterrows():\n",
        "#         date = row['DATE']\n",
        "#         time_val = row[col]\n",
        "\n",
        "#         if pd.isnull(time_val):\n",
        "#             lista.append(np.nan)\n",
        "#         elif float(time_val) == 2400:\n",
        "#             date += datetime.timedelta(days=1)\n",
        "#             time_val = datetime.time(0, 0)\n",
        "#             lista.append(datetime.datetime.combine(date, time_val))\n",
        "#         else:\n",
        "#             time_val = converter_hora(time_val)\n",
        "#             lista.append(datetime.datetime.combine(date, time_val))\n",
        "#     return pd.Series(lista)\n",
        "# # df['SCHEDULED_DEPARTURE'] = criar_coluna_datetime(df, 'SCHEDULED_DEPARTURE')\n",
        "# # df['DEPARTURE_TIME'] = df['DEPARTURE_TIME'].apply(converter_hora)\n",
        "# # df['SCHEDULED_ARRIVAL'] = df['SCHEDULED_ARRIVAL'].apply(converter_hora)\n",
        "# # df['WHEELS_OFF'] = df['WHEELS_OFF'].apply(converter_hora)\n",
        "# # df['ARRIVAL_TIME'] = df['ARRIVAL_TIME'].apply(converter_hora)\n",
        "# # df[df['TAIL_NUMBER']== '7819A']\n",
        "# # print(converter_hora(1930))\n",
        "# df_sample = df[df['TAIL_NUMBER'] == '7819A']\n",
        "# df_sample['SCHEDULED_DEPARTURE'] = df_sample['SCHEDULED_DEPARTURE'].apply(converter_hora)\n",
        "# df_sample['DEPARTURE_TIME'] = df_sample['DEPARTURE_TIME'].apply(converter_hora)\n",
        "# df_sample['SCHEDULED_ARRIVAL'] = df_sample['SCHEDULED_ARRIVAL'].apply(converter_hora)\n",
        "# df_sample['WHEELS_OFF'] = df_sample['WHEELS_OFF'].apply(converter_hora)\n",
        "# df_sample['WHEELS_ON'] = df_sample['WHEELS_ON'].apply(converter_hora)\n",
        "# df_sample['ARRIVAL_TIME'] = df_sample['ARRIVAL_TIME'].apply(converter_hora)\n",
        "# df_sample['SCHEDULE_TIME'] = df_sample['SCHEDULE_TIME'].apply(converter_hora)\n",
        "# df_sample.columns"
      ]
    },
    {
      "cell_type": "code",
      "execution_count": 2,
      "metadata": {
        "id": "tbNB7HrsUR05"
      },
      "outputs": [],
      "source": [
        "# Previsão de Atrasos e Cancelamentos de Voos: Uma Análise Comparativa de Algoritmos de Machine Learning\n",
        "# https://www.sciencedirect.com/science/article/pii/S0969699719302303\n",
        "# https://journals.sagepub.com/doi/full/10.1177/0361198120930014\n",
        "# Prever se um voo será atrasado/cancelado ou não, Random Forest,KNN,SVM\n",
        "# Acurácia, F1-Score, Matriz de Confusão\n",
        "# usar tipo um box plot comparando os modelos e suas acuracios tipo slide 2 data science\n",
        "import numpy as np\n",
        "import seaborn as sns\n",
        "import matplotlib.pyplot as plt\n",
        "import datetime as datetime"
      ]
    },
    {
      "cell_type": "markdown",
      "metadata": {
        "id": "wzRG_jPvKpOx"
      },
      "source": [
        "**DAY_OF_WEEK**: Representa o dia da semana em que o voo ocorre, geralmente numerado de 0 (segunda-feira) a 6 (domingo).\n",
        "\n",
        "**AIRLINE**: O código identificador da companhia aérea que opera o voo, por exemplo, \"AA\" para American Airlines.\n",
        "\n",
        "**TAIL_NUMBER**: O número de cauda da aeronave, um identificador único atribuído a cada avião.\n",
        "\n",
        "**ORIGIN_AIRPORT**: O código do aeroporto de origem, geralmente utilizando o código IATA do aeroporto (ex: \"JFK\" para o Aeroporto John F. Kennedy).\n",
        "\n",
        "**DESTINATION_AIRPORT**: O código do aeroporto de destino, também no formato IATA.\n",
        "\n",
        "**SCHEDULED_DEPARTURE**: A hora programada de partida do voo, considerando o horário de 24 horas.\n",
        "\n",
        "**DEPARTURE_TIME**: O horário real de partida do voo, registrado após o despejo da aeronave.\n",
        "\n",
        "**DEPARTURE_DELAY**: O atraso (em minutos) na partida do voo em relação ao horário programado.\n",
        "\n",
        "**TAXI_OUT**: O tempo (em minutos) que o avião levou para sair do portão de embarque até alcançar a pista de decolagem.\n",
        "\n",
        "**WHEELS_OFF**: O horário em que as rodas da aeronave saem da pista, marcando o início da decolagem.\n",
        "\n",
        "**SCHEDULED_TIME**: O tempo programado para o voo, em minutos, do momento da decolagem até o pouso.\n",
        "\n",
        "**ELAPSED_TIME**: O tempo real de voo, em minutos, do momento em que a aeronave decola até o momento em que aterrissa.\n",
        "\n",
        "**AIR_TIME**: O tempo total de voo (em minutos), excluindo o tempo de taxiamento.\n",
        "\n",
        "**DISTANCE**: A distância total percorrida durante o voo, geralmente em milhas.\n",
        "\n",
        "**WHEELS_ON**: O horário em que as rodas da aeronave tocam a pista durante o pouso.\n",
        "\n",
        "**TAXI_IN**: O tempo (em minutos) que o avião leva desde o pouso até o momento em que chega ao portão de desembarque.\n",
        "\n",
        "**SCHEDULED_ARRIVAL**: O horário programado de chegada do voo, com base no horário estimado.\n",
        "\n",
        "**ARRIVAL_TIME**: O horário real de chegada do voo.\n",
        "\n",
        "**ARRIVAL_DELAY**: O atraso (em minutos) na chegada do voo, comparando o horário real de chegada com o programado.\n",
        "\n",
        "**DIVERTED**: Indica se o voo foi desviado para outro aeroporto devido a condições imprevistas (valor binário: 1 para desviado, 0 para não desviado).\n",
        "\n",
        "**AIR_SYSTEM_DELAY**: O atraso causado por problemas no sistema de controle de tráfego aéreo.\n",
        "\n",
        "**SECURITY_DELAY**: O atraso devido a questões de segurança, como inspeções ou controles de segurança.\n",
        "\n",
        "**AIRLINE_DELAY**: O atraso causado por falhas ou problemas internos da companhia aérea, como atraso em procedimentos de manutenção.\n",
        "\n",
        "**LATE_AIRCRAFT_DELAY**: O atraso devido a problemas com o voo anterior da aeronave (a aeronave que estava atrasada de outra viagem).\n",
        "\n",
        "**WEATHER_DELAY**: O atraso causado por condições climáticas adversas, como tempestades ou nevoeiro.\n",
        "\n",
        "**DELAYED**: Indica se o voo foi atrasado em relação ao horário programado (valor binário: 1 para atrasado, 0 para não atrasado).\n",
        "\n",
        "**DATE**: A data do voo, geralmente no formato YYYY-MM-DD.\n",
        "\n",
        "**PREV_ARRIVAL_DELAY**: O atraso na chegada do voo anterior para a mesma aeronave (em minutos), que pode influenciar no atraso do voo atual.\n",
        "\n",
        "**PREV_DELAYED**: Indica se o voo anterior da aeronave foi atrasado (valor binário: 1 para atrasado, 0 para não atrasado)."
      ]
    },
    {
      "cell_type": "code",
      "execution_count": 3,
      "metadata": {
        "colab": {
          "base_uri": "https://localhost:8080/"
        },
        "id": "lIgeZgPFf6bz",
        "outputId": "58e105e5-4f35-4a03-cb75-d4c81305db12"
      },
      "outputs": [
        {
          "name": "stderr",
          "output_type": "stream",
          "text": [
            "/Library/Frameworks/Python.framework/Versions/3.11/lib/python3.11/site-packages/tqdm/auto.py:22: TqdmWarning: IProgress not found. Please update jupyter and ipywidgets. See https://ipywidgets.readthedocs.io/en/stable/user_install.html\n",
            "  from .autonotebook import tqdm as notebook_tqdm\n"
          ]
        },
        {
          "name": "stdout",
          "output_type": "stream",
          "text": [
            "Path to dataset files: /Users/gustavocoradin/.cache/kagglehub/datasets/usdot/flight-delays/versions/1\n"
          ]
        }
      ],
      "source": [
        "import kagglehub\n",
        "\n",
        "path = kagglehub.dataset_download(\"usdot/flight-delays\")\n",
        "\n",
        "print(\"Path to dataset files:\", path)\n"
      ]
    },
    {
      "cell_type": "code",
      "execution_count": 4,
      "metadata": {
        "colab": {
          "base_uri": "https://localhost:8080/"
        },
        "id": "4hBoNm4ESjKb",
        "outputId": "97004dd2-11fa-4fc5-d1a8-c3f0865a8f04"
      },
      "outputs": [
        {
          "name": "stderr",
          "output_type": "stream",
          "text": [
            "/var/folders/28/kqrw_4t50j7_wd11ljb0mrmh0000gn/T/ipykernel_67370/286890719.py:2: DtypeWarning: Columns (7,8) have mixed types. Specify dtype option on import or set low_memory=False.\n",
            "  df = pd.read_csv(path + \"/flights.csv\")\n"
          ]
        }
      ],
      "source": [
        "import pandas as pd\n",
        "df = pd.read_csv(path + \"/flights.csv\")"
      ]
    },
    {
      "cell_type": "code",
      "execution_count": 5,
      "metadata": {
        "colab": {
          "base_uri": "https://localhost:8080/"
        },
        "id": "3VRA5LEigbe9",
        "outputId": "d26fde1e-6d1e-4ce1-a5d9-8dcd2971f6ce"
      },
      "outputs": [
        {
          "data": {
            "text/plain": [
              "Index(['YEAR', 'MONTH', 'DAY', 'DAY_OF_WEEK', 'AIRLINE', 'FLIGHT_NUMBER',\n",
              "       'TAIL_NUMBER', 'ORIGIN_AIRPORT', 'DESTINATION_AIRPORT',\n",
              "       'SCHEDULED_DEPARTURE', 'DEPARTURE_TIME', 'DEPARTURE_DELAY', 'TAXI_OUT',\n",
              "       'WHEELS_OFF', 'SCHEDULED_TIME', 'ELAPSED_TIME', 'AIR_TIME', 'DISTANCE',\n",
              "       'WHEELS_ON', 'TAXI_IN', 'SCHEDULED_ARRIVAL', 'ARRIVAL_TIME',\n",
              "       'ARRIVAL_DELAY', 'DIVERTED', 'CANCELLED', 'CANCELLATION_REASON',\n",
              "       'AIR_SYSTEM_DELAY', 'SECURITY_DELAY', 'AIRLINE_DELAY',\n",
              "       'LATE_AIRCRAFT_DELAY', 'WEATHER_DELAY'],\n",
              "      dtype='object')"
            ]
          },
          "execution_count": 5,
          "metadata": {},
          "output_type": "execute_result"
        }
      ],
      "source": [
        "df.columns"
      ]
    },
    {
      "cell_type": "markdown",
      "metadata": {
        "id": "r1rdT783qDFn"
      },
      "source": [
        "Analisando o dataset / data cleaning"
      ]
    },
    {
      "cell_type": "code",
      "execution_count": 6,
      "metadata": {
        "colab": {
          "base_uri": "https://localhost:8080/"
        },
        "id": "BVLDnj60vwhK",
        "outputId": "43b280cc-cf6c-4cb7-defa-d032fb723f69"
      },
      "outputs": [
        {
          "name": "stdout",
          "output_type": "stream",
          "text": [
            "YEAR                    0.000000\n",
            "MONTH                   0.000000\n",
            "DAY                     0.000000\n",
            "DAY_OF_WEEK             0.000000\n",
            "AIRLINE                 0.000000\n",
            "FLIGHT_NUMBER           0.000000\n",
            "TAIL_NUMBER             0.252978\n",
            "ORIGIN_AIRPORT          0.000000\n",
            "DESTINATION_AIRPORT     0.000000\n",
            "SCHEDULED_DEPARTURE     0.000000\n",
            "DEPARTURE_TIME          1.480526\n",
            "DEPARTURE_DELAY         1.480526\n",
            "TAXI_OUT                1.530259\n",
            "WHEELS_OFF              1.530259\n",
            "SCHEDULED_TIME          0.000103\n",
            "ELAPSED_TIME            1.805629\n",
            "AIR_TIME                1.805629\n",
            "DISTANCE                0.000000\n",
            "WHEELS_ON               1.589822\n",
            "TAXI_IN                 1.589822\n",
            "SCHEDULED_ARRIVAL       0.000000\n",
            "ARRIVAL_TIME            1.589822\n",
            "ARRIVAL_DELAY           1.805629\n",
            "DIVERTED                0.000000\n",
            "CANCELLED               0.000000\n",
            "CANCELLATION_REASON    98.455357\n",
            "AIR_SYSTEM_DELAY       81.724960\n",
            "SECURITY_DELAY         81.724960\n",
            "AIRLINE_DELAY          81.724960\n",
            "LATE_AIRCRAFT_DELAY    81.724960\n",
            "WEATHER_DELAY          81.724960\n",
            "dtype: float64\n"
          ]
        }
      ],
      "source": [
        "print(df.isna().sum() * 100 / len(df))"
      ]
    },
    {
      "cell_type": "code",
      "execution_count": 7,
      "metadata": {
        "colab": {
          "base_uri": "https://localhost:8080/",
          "height": 253
        },
        "id": "g1weFMZpZkbj",
        "outputId": "b53df841-0174-4cf3-9682-678fcf75e66c"
      },
      "outputs": [
        {
          "data": {
            "text/html": [
              "<div>\n",
              "<style scoped>\n",
              "    .dataframe tbody tr th:only-of-type {\n",
              "        vertical-align: middle;\n",
              "    }\n",
              "\n",
              "    .dataframe tbody tr th {\n",
              "        vertical-align: top;\n",
              "    }\n",
              "\n",
              "    .dataframe thead th {\n",
              "        text-align: right;\n",
              "    }\n",
              "</style>\n",
              "<table border=\"1\" class=\"dataframe\">\n",
              "  <thead>\n",
              "    <tr style=\"text-align: right;\">\n",
              "      <th></th>\n",
              "      <th>YEAR</th>\n",
              "      <th>MONTH</th>\n",
              "      <th>DAY</th>\n",
              "      <th>DAY_OF_WEEK</th>\n",
              "      <th>AIRLINE</th>\n",
              "      <th>FLIGHT_NUMBER</th>\n",
              "      <th>TAIL_NUMBER</th>\n",
              "      <th>ORIGIN_AIRPORT</th>\n",
              "      <th>DESTINATION_AIRPORT</th>\n",
              "      <th>SCHEDULED_DEPARTURE</th>\n",
              "      <th>...</th>\n",
              "      <th>ARRIVAL_TIME</th>\n",
              "      <th>ARRIVAL_DELAY</th>\n",
              "      <th>DIVERTED</th>\n",
              "      <th>CANCELLED</th>\n",
              "      <th>CANCELLATION_REASON</th>\n",
              "      <th>AIR_SYSTEM_DELAY</th>\n",
              "      <th>SECURITY_DELAY</th>\n",
              "      <th>AIRLINE_DELAY</th>\n",
              "      <th>LATE_AIRCRAFT_DELAY</th>\n",
              "      <th>WEATHER_DELAY</th>\n",
              "    </tr>\n",
              "  </thead>\n",
              "  <tbody>\n",
              "    <tr>\n",
              "      <th>0</th>\n",
              "      <td>2015</td>\n",
              "      <td>1</td>\n",
              "      <td>1</td>\n",
              "      <td>4</td>\n",
              "      <td>AS</td>\n",
              "      <td>98</td>\n",
              "      <td>N407AS</td>\n",
              "      <td>ANC</td>\n",
              "      <td>SEA</td>\n",
              "      <td>5</td>\n",
              "      <td>...</td>\n",
              "      <td>408.0</td>\n",
              "      <td>-22.0</td>\n",
              "      <td>0</td>\n",
              "      <td>0</td>\n",
              "      <td>NaN</td>\n",
              "      <td>0.0</td>\n",
              "      <td>0.0</td>\n",
              "      <td>0.0</td>\n",
              "      <td>0.0</td>\n",
              "      <td>0.0</td>\n",
              "    </tr>\n",
              "    <tr>\n",
              "      <th>1</th>\n",
              "      <td>2015</td>\n",
              "      <td>1</td>\n",
              "      <td>1</td>\n",
              "      <td>4</td>\n",
              "      <td>AA</td>\n",
              "      <td>2336</td>\n",
              "      <td>N3KUAA</td>\n",
              "      <td>LAX</td>\n",
              "      <td>PBI</td>\n",
              "      <td>10</td>\n",
              "      <td>...</td>\n",
              "      <td>741.0</td>\n",
              "      <td>-9.0</td>\n",
              "      <td>0</td>\n",
              "      <td>0</td>\n",
              "      <td>NaN</td>\n",
              "      <td>0.0</td>\n",
              "      <td>0.0</td>\n",
              "      <td>0.0</td>\n",
              "      <td>0.0</td>\n",
              "      <td>0.0</td>\n",
              "    </tr>\n",
              "    <tr>\n",
              "      <th>2</th>\n",
              "      <td>2015</td>\n",
              "      <td>1</td>\n",
              "      <td>1</td>\n",
              "      <td>4</td>\n",
              "      <td>US</td>\n",
              "      <td>840</td>\n",
              "      <td>N171US</td>\n",
              "      <td>SFO</td>\n",
              "      <td>CLT</td>\n",
              "      <td>20</td>\n",
              "      <td>...</td>\n",
              "      <td>811.0</td>\n",
              "      <td>5.0</td>\n",
              "      <td>0</td>\n",
              "      <td>0</td>\n",
              "      <td>NaN</td>\n",
              "      <td>0.0</td>\n",
              "      <td>0.0</td>\n",
              "      <td>0.0</td>\n",
              "      <td>0.0</td>\n",
              "      <td>0.0</td>\n",
              "    </tr>\n",
              "    <tr>\n",
              "      <th>3</th>\n",
              "      <td>2015</td>\n",
              "      <td>1</td>\n",
              "      <td>1</td>\n",
              "      <td>4</td>\n",
              "      <td>AA</td>\n",
              "      <td>258</td>\n",
              "      <td>N3HYAA</td>\n",
              "      <td>LAX</td>\n",
              "      <td>MIA</td>\n",
              "      <td>20</td>\n",
              "      <td>...</td>\n",
              "      <td>756.0</td>\n",
              "      <td>-9.0</td>\n",
              "      <td>0</td>\n",
              "      <td>0</td>\n",
              "      <td>NaN</td>\n",
              "      <td>0.0</td>\n",
              "      <td>0.0</td>\n",
              "      <td>0.0</td>\n",
              "      <td>0.0</td>\n",
              "      <td>0.0</td>\n",
              "    </tr>\n",
              "    <tr>\n",
              "      <th>4</th>\n",
              "      <td>2015</td>\n",
              "      <td>1</td>\n",
              "      <td>1</td>\n",
              "      <td>4</td>\n",
              "      <td>AS</td>\n",
              "      <td>135</td>\n",
              "      <td>N527AS</td>\n",
              "      <td>SEA</td>\n",
              "      <td>ANC</td>\n",
              "      <td>25</td>\n",
              "      <td>...</td>\n",
              "      <td>259.0</td>\n",
              "      <td>-21.0</td>\n",
              "      <td>0</td>\n",
              "      <td>0</td>\n",
              "      <td>NaN</td>\n",
              "      <td>0.0</td>\n",
              "      <td>0.0</td>\n",
              "      <td>0.0</td>\n",
              "      <td>0.0</td>\n",
              "      <td>0.0</td>\n",
              "    </tr>\n",
              "  </tbody>\n",
              "</table>\n",
              "<p>5 rows × 31 columns</p>\n",
              "</div>"
            ],
            "text/plain": [
              "   YEAR  MONTH  DAY  DAY_OF_WEEK AIRLINE  FLIGHT_NUMBER TAIL_NUMBER  \\\n",
              "0  2015      1    1            4      AS             98      N407AS   \n",
              "1  2015      1    1            4      AA           2336      N3KUAA   \n",
              "2  2015      1    1            4      US            840      N171US   \n",
              "3  2015      1    1            4      AA            258      N3HYAA   \n",
              "4  2015      1    1            4      AS            135      N527AS   \n",
              "\n",
              "  ORIGIN_AIRPORT DESTINATION_AIRPORT  SCHEDULED_DEPARTURE  ...  ARRIVAL_TIME  \\\n",
              "0            ANC                 SEA                    5  ...         408.0   \n",
              "1            LAX                 PBI                   10  ...         741.0   \n",
              "2            SFO                 CLT                   20  ...         811.0   \n",
              "3            LAX                 MIA                   20  ...         756.0   \n",
              "4            SEA                 ANC                   25  ...         259.0   \n",
              "\n",
              "   ARRIVAL_DELAY  DIVERTED  CANCELLED  CANCELLATION_REASON  AIR_SYSTEM_DELAY  \\\n",
              "0          -22.0         0          0                  NaN               0.0   \n",
              "1           -9.0         0          0                  NaN               0.0   \n",
              "2            5.0         0          0                  NaN               0.0   \n",
              "3           -9.0         0          0                  NaN               0.0   \n",
              "4          -21.0         0          0                  NaN               0.0   \n",
              "\n",
              "   SECURITY_DELAY  AIRLINE_DELAY  LATE_AIRCRAFT_DELAY  WEATHER_DELAY  \n",
              "0             0.0            0.0                  0.0            0.0  \n",
              "1             0.0            0.0                  0.0            0.0  \n",
              "2             0.0            0.0                  0.0            0.0  \n",
              "3             0.0            0.0                  0.0            0.0  \n",
              "4             0.0            0.0                  0.0            0.0  \n",
              "\n",
              "[5 rows x 31 columns]"
            ]
          },
          "execution_count": 7,
          "metadata": {},
          "output_type": "execute_result"
        }
      ],
      "source": [
        "# trocando NaN por 0 já que 0 aqui significa ausência de atraso\n",
        "delay_reason_cols = ['AIR_SYSTEM_DELAY', 'SECURITY_DELAY', 'AIRLINE_DELAY', 'LATE_AIRCRAFT_DELAY', 'WEATHER_DELAY']\n",
        "df[delay_reason_cols] = df[delay_reason_cols].fillna(0)\n",
        "df.head()"
      ]
    },
    {
      "cell_type": "code",
      "execution_count": 8,
      "metadata": {
        "id": "tSRzGKw0397j"
      },
      "outputs": [],
      "source": [
        "df.drop(['CANCELLATION_REASON', 'FLIGHT_NUMBER', 'CANCELLED'], axis=1, inplace=True, errors='ignore')\n",
        "\n",
        "# removendo TAIL_NUMBER devido a sua alta cardinalidade\n",
        "df.drop('TAIL_NUMBER', axis=1, inplace=True)\n",
        "\n",
        "# removendo ORIGIN_AIRPORT, DESTINATION_AIRPORT, AIRLINE pois apresentam pouco ganho de\n",
        "# informação para o modelo e deixam o dataset muito esparso\n",
        "df.drop(['ORIGIN_AIRPORT', 'DESTINATION_AIRPORT', 'AIRLINE'], axis=1, inplace=True, errors='ignore')\n",
        "df = df.dropna(subset=['DEPARTURE_TIME','DEPARTURE_DELAY','TAXI_OUT','WHEELS_OFF','SCHEDULED_TIME','ELAPSED_TIME','AIR_TIME','WHEELS_ON','TAXI_IN','ARRIVAL_TIME','ARRIVAL_DELAY'])"
      ]
    },
    {
      "cell_type": "code",
      "execution_count": 9,
      "metadata": {
        "colab": {
          "base_uri": "https://localhost:8080/"
        },
        "id": "gthMI60L5ZcF",
        "outputId": "1929d926-ca10-479a-a1d0-bf4ed2b67e79"
      },
      "outputs": [
        {
          "name": "stdout",
          "output_type": "stream",
          "text": [
            "YEAR                   0.0\n",
            "MONTH                  0.0\n",
            "DAY                    0.0\n",
            "DAY_OF_WEEK            0.0\n",
            "SCHEDULED_DEPARTURE    0.0\n",
            "DEPARTURE_TIME         0.0\n",
            "DEPARTURE_DELAY        0.0\n",
            "TAXI_OUT               0.0\n",
            "WHEELS_OFF             0.0\n",
            "SCHEDULED_TIME         0.0\n",
            "ELAPSED_TIME           0.0\n",
            "AIR_TIME               0.0\n",
            "DISTANCE               0.0\n",
            "WHEELS_ON              0.0\n",
            "TAXI_IN                0.0\n",
            "SCHEDULED_ARRIVAL      0.0\n",
            "ARRIVAL_TIME           0.0\n",
            "ARRIVAL_DELAY          0.0\n",
            "DIVERTED               0.0\n",
            "AIR_SYSTEM_DELAY       0.0\n",
            "SECURITY_DELAY         0.0\n",
            "AIRLINE_DELAY          0.0\n",
            "LATE_AIRCRAFT_DELAY    0.0\n",
            "WEATHER_DELAY          0.0\n",
            "dtype: float64\n"
          ]
        }
      ],
      "source": [
        "print(df.isna().sum() * 100 / len(df))"
      ]
    },
    {
      "cell_type": "code",
      "execution_count": 10,
      "metadata": {
        "id": "ThHA0kIsBMJ_"
      },
      "outputs": [
        {
          "name": "stdout",
          "output_type": "stream",
          "text": [
            "Removendo 10 colunas com vazamento temporal:\n",
            "['ARRIVAL_DELAY', 'ARRIVAL_TIME', 'WHEELS_ON', 'TAXI_IN', 'DEPARTURE_TIME', 'DEPARTURE_DELAY', 'WHEELS_OFF', 'TAXI_OUT', 'ELAPSED_TIME', 'AIR_TIME']\n"
          ]
        }
      ],
      "source": [
        "# criando uma coluna para ver se o voo atrasou ou não (0,1)\n",
        "df['DELAYED'] = df['ARRIVAL_DELAY'].apply(lambda x: 1 if x > 15 else 0)\n",
        "\n",
        "# REMOVENDO FEATURES COM VAZAMENTO TEMPORAL (informações disponíveis apenas após o voo)\n",
        "temporal_leakage_cols = [\n",
        "    'ARRIVAL_DELAY',    # Target leakage - é o que queremos prever\n",
        "    'ARRIVAL_TIME',     # Só conhecido após o voo\n",
        "    'WHEELS_ON',        # Só conhecido após o voo  \n",
        "    'TAXI_IN',          # Só conhecido após o voo\n",
        "    'DEPARTURE_TIME',   # Pode ser conhecido, mas vamos ser conservadores\n",
        "    'DEPARTURE_DELAY',  # Pode causar vazamento\n",
        "    'WHEELS_OFF',       # Só conhecido após decolagem\n",
        "    'TAXI_OUT',         # Só conhecido após decolagem\n",
        "    'ELAPSED_TIME',     # Só conhecido após o voo\n",
        "    'AIR_TIME'          # Só conhecido após o voo\n",
        "]\n",
        "\n",
        "print(f\"Removendo {len(temporal_leakage_cols)} colunas com vazamento temporal:\")\n",
        "print(temporal_leakage_cols)\n",
        "df = df.drop(columns=temporal_leakage_cols, errors='ignore')"
      ]
    },
    {
      "cell_type": "code",
      "execution_count": 11,
      "metadata": {
        "colab": {
          "base_uri": "https://localhost:8080/"
        },
        "id": "Qrq0a5UL5ozW",
        "outputId": "eac1dfe9-a2d3-4cc6-98fb-b43e100a7a26"
      },
      "outputs": [
        {
          "name": "stdout",
          "output_type": "stream",
          "text": [
            "Não atrasados: 4.690.510\n",
            "Atrasados: 1.023.498\n",
            "Percentual de voos não atrasados: 82.09%\n",
            "Percentual de voos atrasados: 17.91%\n"
          ]
        }
      ],
      "source": [
        "delay = df[df['DELAYED'] == 1]\n",
        "on_time = df[df['DELAYED'] == 0]\n",
        "\n",
        "delay_count = delay.shape[0]\n",
        "on_time_count = on_time.shape[0]\n",
        "\n",
        "total = delay_count + on_time_count\n",
        "delay_percentage = (delay_count / total) * 100\n",
        "on_time_percentage = (on_time_count / total) * 100\n",
        "\n",
        "print(f\"Não atrasados: {on_time_count:,}\".replace(\",\", \".\"))\n",
        "print(f\"Atrasados: {delay_count:,}\".replace(\",\", \".\"))\n",
        "print(f\"Percentual de voos não atrasados: {on_time_percentage:.2f}%\")\n",
        "print(f\"Percentual de voos atrasados: {delay_percentage:.2f}%\")\n"
      ]
    },
    {
      "cell_type": "code",
      "execution_count": 12,
      "metadata": {
        "colab": {
          "base_uri": "https://localhost:8080/"
        },
        "id": "5EC1So4fyLJX",
        "outputId": "3c2715b8-dd51-403d-e9c2-fdf61d03d6dd"
      },
      "outputs": [
        {
          "name": "stdout",
          "output_type": "stream",
          "text": [
            "Não atrasados: 1.023.498\n",
            "Atrasados: 1.023.498\n",
            "Percentual de voos não atrasados: 50.00%\n",
            "Percentual de voos atrasados: 50.00%\n"
          ]
        }
      ],
      "source": [
        "from imblearn.under_sampling import RandomUnderSampler\n",
        "\n",
        "X = df.drop(columns=['DELAYED'])\n",
        "y = df['DELAYED']\n",
        "\n",
        "rus = RandomUnderSampler(random_state=42)\n",
        "X_resampled, y_resampled = rus.fit_resample(X, y)\n",
        "\n",
        "\n",
        "df_undersampled = pd.concat([X_resampled, y_resampled], axis=1)\n",
        "\n",
        "on_time_count = (df_undersampled['DELAYED'] == 0).sum()\n",
        "delay_count = (df_undersampled['DELAYED'] == 1).sum()\n",
        "total = on_time_count + delay_count\n",
        "\n",
        "\n",
        "on_time_percentage = (on_time_count / total) * 100\n",
        "delay_percentage = (delay_count / total) * 100\n",
        "\n",
        "print(f\"Não atrasados: {on_time_count:,}\".replace(\",\", \".\"))\n",
        "print(f\"Atrasados: {delay_count:,}\".replace(\",\", \".\"))\n",
        "print(f\"Percentual de voos não atrasados: {on_time_percentage:.2f}%\")\n",
        "print(f\"Percentual de voos atrasados: {delay_percentage:.2f}%\")"
      ]
    },
    {
      "cell_type": "code",
      "execution_count": 13,
      "metadata": {
        "id": "eKs19Aafudk0"
      },
      "outputs": [],
      "source": [
        "# criando uma coluna date com o dia,mês e ano convertidos\n",
        "# df['DATE'] = pd.to_datetime(df[['YEAR','MONTH', 'DAY']])\n",
        "# df.drop(['YEAR', 'MONTH', 'DAY'], axis=1, inplace=True)"
      ]
    },
    {
      "cell_type": "code",
      "execution_count": 14,
      "metadata": {
        "colab": {
          "base_uri": "https://localhost:8080/",
          "height": 253
        },
        "id": "PCbpiSzsMb0_",
        "outputId": "66531ecf-2083-4fab-a55a-6fca55cc6092"
      },
      "outputs": [
        {
          "data": {
            "text/html": [
              "<div>\n",
              "<style scoped>\n",
              "    .dataframe tbody tr th:only-of-type {\n",
              "        vertical-align: middle;\n",
              "    }\n",
              "\n",
              "    .dataframe tbody tr th {\n",
              "        vertical-align: top;\n",
              "    }\n",
              "\n",
              "    .dataframe thead th {\n",
              "        text-align: right;\n",
              "    }\n",
              "</style>\n",
              "<table border=\"1\" class=\"dataframe\">\n",
              "  <thead>\n",
              "    <tr style=\"text-align: right;\">\n",
              "      <th></th>\n",
              "      <th>YEAR</th>\n",
              "      <th>MONTH</th>\n",
              "      <th>DAY</th>\n",
              "      <th>DAY_OF_WEEK</th>\n",
              "      <th>SCHEDULED_DEPARTURE</th>\n",
              "      <th>SCHEDULED_TIME</th>\n",
              "      <th>DISTANCE</th>\n",
              "      <th>SCHEDULED_ARRIVAL</th>\n",
              "      <th>DIVERTED</th>\n",
              "      <th>AIR_SYSTEM_DELAY</th>\n",
              "      <th>SECURITY_DELAY</th>\n",
              "      <th>AIRLINE_DELAY</th>\n",
              "      <th>LATE_AIRCRAFT_DELAY</th>\n",
              "      <th>WEATHER_DELAY</th>\n",
              "      <th>DELAYED</th>\n",
              "    </tr>\n",
              "  </thead>\n",
              "  <tbody>\n",
              "    <tr>\n",
              "      <th>0</th>\n",
              "      <td>2015</td>\n",
              "      <td>1</td>\n",
              "      <td>1</td>\n",
              "      <td>4</td>\n",
              "      <td>5</td>\n",
              "      <td>205.0</td>\n",
              "      <td>1448</td>\n",
              "      <td>430</td>\n",
              "      <td>0</td>\n",
              "      <td>0.0</td>\n",
              "      <td>0.0</td>\n",
              "      <td>0.0</td>\n",
              "      <td>0.0</td>\n",
              "      <td>0.0</td>\n",
              "      <td>0</td>\n",
              "    </tr>\n",
              "    <tr>\n",
              "      <th>1</th>\n",
              "      <td>2015</td>\n",
              "      <td>1</td>\n",
              "      <td>1</td>\n",
              "      <td>4</td>\n",
              "      <td>10</td>\n",
              "      <td>280.0</td>\n",
              "      <td>2330</td>\n",
              "      <td>750</td>\n",
              "      <td>0</td>\n",
              "      <td>0.0</td>\n",
              "      <td>0.0</td>\n",
              "      <td>0.0</td>\n",
              "      <td>0.0</td>\n",
              "      <td>0.0</td>\n",
              "      <td>0</td>\n",
              "    </tr>\n",
              "    <tr>\n",
              "      <th>2</th>\n",
              "      <td>2015</td>\n",
              "      <td>1</td>\n",
              "      <td>1</td>\n",
              "      <td>4</td>\n",
              "      <td>20</td>\n",
              "      <td>286.0</td>\n",
              "      <td>2296</td>\n",
              "      <td>806</td>\n",
              "      <td>0</td>\n",
              "      <td>0.0</td>\n",
              "      <td>0.0</td>\n",
              "      <td>0.0</td>\n",
              "      <td>0.0</td>\n",
              "      <td>0.0</td>\n",
              "      <td>0</td>\n",
              "    </tr>\n",
              "    <tr>\n",
              "      <th>3</th>\n",
              "      <td>2015</td>\n",
              "      <td>1</td>\n",
              "      <td>1</td>\n",
              "      <td>4</td>\n",
              "      <td>20</td>\n",
              "      <td>285.0</td>\n",
              "      <td>2342</td>\n",
              "      <td>805</td>\n",
              "      <td>0</td>\n",
              "      <td>0.0</td>\n",
              "      <td>0.0</td>\n",
              "      <td>0.0</td>\n",
              "      <td>0.0</td>\n",
              "      <td>0.0</td>\n",
              "      <td>0</td>\n",
              "    </tr>\n",
              "    <tr>\n",
              "      <th>4</th>\n",
              "      <td>2015</td>\n",
              "      <td>1</td>\n",
              "      <td>1</td>\n",
              "      <td>4</td>\n",
              "      <td>25</td>\n",
              "      <td>235.0</td>\n",
              "      <td>1448</td>\n",
              "      <td>320</td>\n",
              "      <td>0</td>\n",
              "      <td>0.0</td>\n",
              "      <td>0.0</td>\n",
              "      <td>0.0</td>\n",
              "      <td>0.0</td>\n",
              "      <td>0.0</td>\n",
              "      <td>0</td>\n",
              "    </tr>\n",
              "  </tbody>\n",
              "</table>\n",
              "</div>"
            ],
            "text/plain": [
              "   YEAR  MONTH  DAY  DAY_OF_WEEK  SCHEDULED_DEPARTURE  SCHEDULED_TIME  \\\n",
              "0  2015      1    1            4                    5           205.0   \n",
              "1  2015      1    1            4                   10           280.0   \n",
              "2  2015      1    1            4                   20           286.0   \n",
              "3  2015      1    1            4                   20           285.0   \n",
              "4  2015      1    1            4                   25           235.0   \n",
              "\n",
              "   DISTANCE  SCHEDULED_ARRIVAL  DIVERTED  AIR_SYSTEM_DELAY  SECURITY_DELAY  \\\n",
              "0      1448                430         0               0.0             0.0   \n",
              "1      2330                750         0               0.0             0.0   \n",
              "2      2296                806         0               0.0             0.0   \n",
              "3      2342                805         0               0.0             0.0   \n",
              "4      1448                320         0               0.0             0.0   \n",
              "\n",
              "   AIRLINE_DELAY  LATE_AIRCRAFT_DELAY  WEATHER_DELAY  DELAYED  \n",
              "0            0.0                  0.0            0.0        0  \n",
              "1            0.0                  0.0            0.0        0  \n",
              "2            0.0                  0.0            0.0        0  \n",
              "3            0.0                  0.0            0.0        0  \n",
              "4            0.0                  0.0            0.0        0  "
            ]
          },
          "execution_count": 14,
          "metadata": {},
          "output_type": "execute_result"
        }
      ],
      "source": [
        "df.head()"
      ]
    },
    {
      "cell_type": "code",
      "execution_count": 15,
      "metadata": {
        "colab": {
          "base_uri": "https://localhost:8080/",
          "height": 224
        },
        "id": "whwwQjb4JJMs",
        "outputId": "d34c9690-0ed0-4dc7-dcb9-53cdee53f931"
      },
      "outputs": [
        {
          "data": {
            "text/html": [
              "<div>\n",
              "<style scoped>\n",
              "    .dataframe tbody tr th:only-of-type {\n",
              "        vertical-align: middle;\n",
              "    }\n",
              "\n",
              "    .dataframe tbody tr th {\n",
              "        vertical-align: top;\n",
              "    }\n",
              "\n",
              "    .dataframe thead th {\n",
              "        text-align: right;\n",
              "    }\n",
              "</style>\n",
              "<table border=\"1\" class=\"dataframe\">\n",
              "  <thead>\n",
              "    <tr style=\"text-align: right;\">\n",
              "      <th></th>\n",
              "      <th>YEAR</th>\n",
              "      <th>MONTH</th>\n",
              "      <th>DAY</th>\n",
              "      <th>DAY_OF_WEEK</th>\n",
              "      <th>SCHEDULED_DEPARTURE</th>\n",
              "      <th>SCHEDULED_TIME</th>\n",
              "      <th>DISTANCE</th>\n",
              "      <th>SCHEDULED_ARRIVAL</th>\n",
              "      <th>DIVERTED</th>\n",
              "      <th>AIR_SYSTEM_DELAY</th>\n",
              "      <th>SECURITY_DELAY</th>\n",
              "      <th>AIRLINE_DELAY</th>\n",
              "      <th>LATE_AIRCRAFT_DELAY</th>\n",
              "      <th>WEATHER_DELAY</th>\n",
              "      <th>DELAYED</th>\n",
              "    </tr>\n",
              "  </thead>\n",
              "  <tbody>\n",
              "    <tr>\n",
              "      <th>0</th>\n",
              "      <td>2015</td>\n",
              "      <td>1</td>\n",
              "      <td>1</td>\n",
              "      <td>4</td>\n",
              "      <td>5</td>\n",
              "      <td>205.0</td>\n",
              "      <td>1448</td>\n",
              "      <td>430</td>\n",
              "      <td>0</td>\n",
              "      <td>0.0</td>\n",
              "      <td>0.0</td>\n",
              "      <td>0.0</td>\n",
              "      <td>0.0</td>\n",
              "      <td>0.0</td>\n",
              "      <td>0</td>\n",
              "    </tr>\n",
              "    <tr>\n",
              "      <th>1</th>\n",
              "      <td>2015</td>\n",
              "      <td>1</td>\n",
              "      <td>1</td>\n",
              "      <td>4</td>\n",
              "      <td>10</td>\n",
              "      <td>280.0</td>\n",
              "      <td>2330</td>\n",
              "      <td>750</td>\n",
              "      <td>0</td>\n",
              "      <td>0.0</td>\n",
              "      <td>0.0</td>\n",
              "      <td>0.0</td>\n",
              "      <td>0.0</td>\n",
              "      <td>0.0</td>\n",
              "      <td>0</td>\n",
              "    </tr>\n",
              "    <tr>\n",
              "      <th>2</th>\n",
              "      <td>2015</td>\n",
              "      <td>1</td>\n",
              "      <td>1</td>\n",
              "      <td>4</td>\n",
              "      <td>20</td>\n",
              "      <td>286.0</td>\n",
              "      <td>2296</td>\n",
              "      <td>806</td>\n",
              "      <td>0</td>\n",
              "      <td>0.0</td>\n",
              "      <td>0.0</td>\n",
              "      <td>0.0</td>\n",
              "      <td>0.0</td>\n",
              "      <td>0.0</td>\n",
              "      <td>0</td>\n",
              "    </tr>\n",
              "    <tr>\n",
              "      <th>3</th>\n",
              "      <td>2015</td>\n",
              "      <td>1</td>\n",
              "      <td>1</td>\n",
              "      <td>4</td>\n",
              "      <td>20</td>\n",
              "      <td>285.0</td>\n",
              "      <td>2342</td>\n",
              "      <td>805</td>\n",
              "      <td>0</td>\n",
              "      <td>0.0</td>\n",
              "      <td>0.0</td>\n",
              "      <td>0.0</td>\n",
              "      <td>0.0</td>\n",
              "      <td>0.0</td>\n",
              "      <td>0</td>\n",
              "    </tr>\n",
              "    <tr>\n",
              "      <th>4</th>\n",
              "      <td>2015</td>\n",
              "      <td>1</td>\n",
              "      <td>1</td>\n",
              "      <td>4</td>\n",
              "      <td>25</td>\n",
              "      <td>235.0</td>\n",
              "      <td>1448</td>\n",
              "      <td>320</td>\n",
              "      <td>0</td>\n",
              "      <td>0.0</td>\n",
              "      <td>0.0</td>\n",
              "      <td>0.0</td>\n",
              "      <td>0.0</td>\n",
              "      <td>0.0</td>\n",
              "      <td>0</td>\n",
              "    </tr>\n",
              "  </tbody>\n",
              "</table>\n",
              "</div>"
            ],
            "text/plain": [
              "   YEAR  MONTH  DAY  DAY_OF_WEEK  SCHEDULED_DEPARTURE  SCHEDULED_TIME  \\\n",
              "0  2015      1    1            4                    5           205.0   \n",
              "1  2015      1    1            4                   10           280.0   \n",
              "2  2015      1    1            4                   20           286.0   \n",
              "3  2015      1    1            4                   20           285.0   \n",
              "4  2015      1    1            4                   25           235.0   \n",
              "\n",
              "   DISTANCE  SCHEDULED_ARRIVAL  DIVERTED  AIR_SYSTEM_DELAY  SECURITY_DELAY  \\\n",
              "0      1448                430         0               0.0             0.0   \n",
              "1      2330                750         0               0.0             0.0   \n",
              "2      2296                806         0               0.0             0.0   \n",
              "3      2342                805         0               0.0             0.0   \n",
              "4      1448                320         0               0.0             0.0   \n",
              "\n",
              "   AIRLINE_DELAY  LATE_AIRCRAFT_DELAY  WEATHER_DELAY  DELAYED  \n",
              "0            0.0                  0.0            0.0        0  \n",
              "1            0.0                  0.0            0.0        0  \n",
              "2            0.0                  0.0            0.0        0  \n",
              "3            0.0                  0.0            0.0        0  \n",
              "4            0.0                  0.0            0.0        0  "
            ]
          },
          "execution_count": 15,
          "metadata": {},
          "output_type": "execute_result"
        }
      ],
      "source": [
        "pd.set_option('display.max_columns', None)\n",
        "df.head()"
      ]
    },
    {
      "cell_type": "code",
      "execution_count": 16,
      "metadata": {
        "id": "67dNvRJcfoMF"
      },
      "outputs": [],
      "source": [
        "airlines_dict = {\n",
        "    'UA': 'United Air Lines Inc.',\n",
        "    'AA': 'American Airlines Inc.',\n",
        "    'US': 'US Airways Inc.',\n",
        "    'F9': 'Frontier Airlines Inc.',\n",
        "    'B6': 'JetBlue Airways',\n",
        "    'OO': 'Skywest Airlines Inc.',\n",
        "    'AS': 'Alaska Airlines Inc.',\n",
        "    'NK': 'Spirit Air Lines',\n",
        "    'WN': 'Southwest Airlines Co.',\n",
        "    'DL': 'Delta Air Lines Inc.',\n",
        "    'EV': 'Atlantic Southeast Airlines',\n",
        "    'HA': 'Hawaiian Airlines Inc.',\n",
        "    'MQ': 'American Eagle Airlines Inc.',\n",
        "    'VX': 'Virgin America'\n",
        "}\n"
      ]
    },
    {
      "cell_type": "code",
      "execution_count": 17,
      "metadata": {
        "colab": {
          "base_uri": "https://localhost:8080/",
          "height": 224
        },
        "id": "oAvbRUcYh-1k",
        "outputId": "262299c7-05be-46e1-928f-930fcaff505a"
      },
      "outputs": [
        {
          "data": {
            "text/html": [
              "<div>\n",
              "<style scoped>\n",
              "    .dataframe tbody tr th:only-of-type {\n",
              "        vertical-align: middle;\n",
              "    }\n",
              "\n",
              "    .dataframe tbody tr th {\n",
              "        vertical-align: top;\n",
              "    }\n",
              "\n",
              "    .dataframe thead th {\n",
              "        text-align: right;\n",
              "    }\n",
              "</style>\n",
              "<table border=\"1\" class=\"dataframe\">\n",
              "  <thead>\n",
              "    <tr style=\"text-align: right;\">\n",
              "      <th></th>\n",
              "      <th>YEAR</th>\n",
              "      <th>MONTH</th>\n",
              "      <th>DAY</th>\n",
              "      <th>DAY_OF_WEEK</th>\n",
              "      <th>SCHEDULED_DEPARTURE</th>\n",
              "      <th>SCHEDULED_TIME</th>\n",
              "      <th>DISTANCE</th>\n",
              "      <th>SCHEDULED_ARRIVAL</th>\n",
              "      <th>DIVERTED</th>\n",
              "      <th>AIR_SYSTEM_DELAY</th>\n",
              "      <th>SECURITY_DELAY</th>\n",
              "      <th>AIRLINE_DELAY</th>\n",
              "      <th>LATE_AIRCRAFT_DELAY</th>\n",
              "      <th>WEATHER_DELAY</th>\n",
              "      <th>DELAYED</th>\n",
              "    </tr>\n",
              "  </thead>\n",
              "  <tbody>\n",
              "    <tr>\n",
              "      <th>0</th>\n",
              "      <td>2015</td>\n",
              "      <td>1</td>\n",
              "      <td>1</td>\n",
              "      <td>4</td>\n",
              "      <td>5</td>\n",
              "      <td>205.0</td>\n",
              "      <td>1448</td>\n",
              "      <td>430</td>\n",
              "      <td>0</td>\n",
              "      <td>0.0</td>\n",
              "      <td>0.0</td>\n",
              "      <td>0.0</td>\n",
              "      <td>0.0</td>\n",
              "      <td>0.0</td>\n",
              "      <td>0</td>\n",
              "    </tr>\n",
              "    <tr>\n",
              "      <th>1</th>\n",
              "      <td>2015</td>\n",
              "      <td>1</td>\n",
              "      <td>1</td>\n",
              "      <td>4</td>\n",
              "      <td>10</td>\n",
              "      <td>280.0</td>\n",
              "      <td>2330</td>\n",
              "      <td>750</td>\n",
              "      <td>0</td>\n",
              "      <td>0.0</td>\n",
              "      <td>0.0</td>\n",
              "      <td>0.0</td>\n",
              "      <td>0.0</td>\n",
              "      <td>0.0</td>\n",
              "      <td>0</td>\n",
              "    </tr>\n",
              "    <tr>\n",
              "      <th>2</th>\n",
              "      <td>2015</td>\n",
              "      <td>1</td>\n",
              "      <td>1</td>\n",
              "      <td>4</td>\n",
              "      <td>20</td>\n",
              "      <td>286.0</td>\n",
              "      <td>2296</td>\n",
              "      <td>806</td>\n",
              "      <td>0</td>\n",
              "      <td>0.0</td>\n",
              "      <td>0.0</td>\n",
              "      <td>0.0</td>\n",
              "      <td>0.0</td>\n",
              "      <td>0.0</td>\n",
              "      <td>0</td>\n",
              "    </tr>\n",
              "    <tr>\n",
              "      <th>3</th>\n",
              "      <td>2015</td>\n",
              "      <td>1</td>\n",
              "      <td>1</td>\n",
              "      <td>4</td>\n",
              "      <td>20</td>\n",
              "      <td>285.0</td>\n",
              "      <td>2342</td>\n",
              "      <td>805</td>\n",
              "      <td>0</td>\n",
              "      <td>0.0</td>\n",
              "      <td>0.0</td>\n",
              "      <td>0.0</td>\n",
              "      <td>0.0</td>\n",
              "      <td>0.0</td>\n",
              "      <td>0</td>\n",
              "    </tr>\n",
              "    <tr>\n",
              "      <th>4</th>\n",
              "      <td>2015</td>\n",
              "      <td>1</td>\n",
              "      <td>1</td>\n",
              "      <td>4</td>\n",
              "      <td>25</td>\n",
              "      <td>235.0</td>\n",
              "      <td>1448</td>\n",
              "      <td>320</td>\n",
              "      <td>0</td>\n",
              "      <td>0.0</td>\n",
              "      <td>0.0</td>\n",
              "      <td>0.0</td>\n",
              "      <td>0.0</td>\n",
              "      <td>0.0</td>\n",
              "      <td>0</td>\n",
              "    </tr>\n",
              "  </tbody>\n",
              "</table>\n",
              "</div>"
            ],
            "text/plain": [
              "   YEAR  MONTH  DAY  DAY_OF_WEEK  SCHEDULED_DEPARTURE  SCHEDULED_TIME  \\\n",
              "0  2015      1    1            4                    5           205.0   \n",
              "1  2015      1    1            4                   10           280.0   \n",
              "2  2015      1    1            4                   20           286.0   \n",
              "3  2015      1    1            4                   20           285.0   \n",
              "4  2015      1    1            4                   25           235.0   \n",
              "\n",
              "   DISTANCE  SCHEDULED_ARRIVAL  DIVERTED  AIR_SYSTEM_DELAY  SECURITY_DELAY  \\\n",
              "0      1448                430         0               0.0             0.0   \n",
              "1      2330                750         0               0.0             0.0   \n",
              "2      2296                806         0               0.0             0.0   \n",
              "3      2342                805         0               0.0             0.0   \n",
              "4      1448                320         0               0.0             0.0   \n",
              "\n",
              "   AIRLINE_DELAY  LATE_AIRCRAFT_DELAY  WEATHER_DELAY  DELAYED  \n",
              "0            0.0                  0.0            0.0        0  \n",
              "1            0.0                  0.0            0.0        0  \n",
              "2            0.0                  0.0            0.0        0  \n",
              "3            0.0                  0.0            0.0        0  \n",
              "4            0.0                  0.0            0.0        0  "
            ]
          },
          "execution_count": 17,
          "metadata": {},
          "output_type": "execute_result"
        }
      ],
      "source": [
        "pd.set_option('display.max_columns', None)\n",
        "df.head(5)"
      ]
    },
    {
      "cell_type": "markdown",
      "metadata": {
        "id": "8XdI5WasW3mH"
      },
      "source": [
        "# IMPLEMENTAÇÃO KNN"
      ]
    },
    {
      "cell_type": "code",
      "execution_count": 18,
      "metadata": {
        "colab": {
          "base_uri": "https://localhost:8080/"
        },
        "id": "E2uN2Dn4dJ5_",
        "outputId": "0f8d5a32-c1cf-4b24-b25b-eaa112afd8e7"
      },
      "outputs": [
        {
          "name": "stdout",
          "output_type": "stream",
          "text": [
            "Shape do DataFrame original: (5714008, 15)\n",
            "Shape do DataFrame amostrado: (100000, 15)\n",
            "\\Distribuição da classe 'DELAYED' no DataFrame amostrado:\n",
            "DELAYED\n",
            "0    50000\n",
            "1    50000\n",
            "Name: count, dtype: int64\n"
          ]
        }
      ],
      "source": [
        "# Pegando samples de 100k\n",
        "df_delayed = df[df['DELAYED'] == 1]\n",
        "df_on_time = df[df['DELAYED'] == 0]\n",
        "\n",
        "# Definir o tamanho da amostra para cada classe\n",
        "sample_size_per_class = 50000\n",
        "\n",
        "# Amostrar aleatoriamente 50k de cada classe\n",
        "df_delayed_sample = df_delayed.sample(n=sample_size_per_class, random_state=42)\n",
        "df_on_time_sample = df_on_time.sample(n=sample_size_per_class, random_state=42)\n",
        "\n",
        "# Combinar as amostras\n",
        "df_sample = pd.concat([df_delayed_sample, df_on_time_sample])\n",
        "\n",
        "# Embaralhar o DataFrame resultante para misturar as classes\n",
        "df_sample = df_sample.sample(frac=1, random_state=42).reset_index(drop=True)\n",
        "\n",
        "print(\"Shape do DataFrame original:\", df.shape)\n",
        "print(\"Shape do DataFrame amostrado:\", df_sample.shape)\n",
        "print(\"\\Distribuição da classe 'DELAYED' no DataFrame amostrado:\")\n",
        "print(df_sample['DELAYED'].value_counts())"
      ]
    },
    {
      "cell_type": "markdown",
      "metadata": {
        "id": "AIxdA6Aga1w_"
      },
      "source": []
    },
    {
      "cell_type": "markdown",
      "metadata": {
        "id": "7147501e"
      },
      "source": [
        "# Task\n",
        "Aplicar um modelo KNN nos dados de voos, exibir as métricas de acurácia e um relatório detalhado de custo/desempenho computacional."
      ]
    },
    {
      "cell_type": "markdown",
      "metadata": {
        "id": "114601b6"
      },
      "source": [
        "## Dividir os dados\n",
        "\n",
        "### Subtask:\n",
        "Separar o DataFrame amostrado (`df_sample`) em conjuntos de treino e teste para os recursos (X) e o alvo (y).\n"
      ]
    },
    {
      "cell_type": "markdown",
      "metadata": {
        "id": "c6609f20"
      },
      "source": [
        "**Reasoning**:\n",
        "Split the sampled DataFrame into training and testing sets for features and the target variable using train_test_split.\n",
        "\n"
      ]
    },
    {
      "cell_type": "code",
      "execution_count": 19,
      "metadata": {
        "id": "95c5445d"
      },
      "outputs": [],
      "source": [
        "from sklearn.model_selection import train_test_split\n",
        "\n",
        "X_sample = df_sample.drop(columns=['DELAYED'])\n",
        "y_sample = df_sample['DELAYED']\n",
        "\n",
        "# Hold-out 70% treino, 30% teste com amostragem estratificada\n",
        "X_train, X_test, y_train, y_test = train_test_split(\n",
        "    X_sample, y_sample,\n",
        "    test_size=0.3,\n",
        "    stratify=y_sample,\n",
        "    random_state=42\n",
        ")\n"
      ]
    },
    {
      "cell_type": "code",
      "execution_count": 20,
      "metadata": {
        "id": "ovcoKo6EMw4g"
      },
      "outputs": [],
      "source": [
        "from sklearn.preprocessing import StandardScaler\n",
        "\n",
        "scaler = StandardScaler()\n",
        "\n",
        "X_train_scaled = scaler.fit_transform(X_train)\n",
        "X_test_scaled = scaler.transform(X_test)\n"
      ]
    },
    {
      "cell_type": "markdown",
      "metadata": {
        "id": "77413900"
      },
      "source": [
        "## Treinar o modelo knn\n",
        "\n",
        "### Subtask:\n",
        "Treinar um modelo KNN usando os dados de treino.\n"
      ]
    },
    {
      "cell_type": "markdown",
      "metadata": {
        "id": "82a5ac85"
      },
      "source": [
        "**Reasoning**:\n",
        "Train a KNN model using the training data.\n",
        "\n"
      ]
    },
    {
      "cell_type": "code",
      "execution_count": 21,
      "metadata": {
        "colab": {
          "base_uri": "https://localhost:8080/",
          "height": 80
        },
        "id": "0d062c67",
        "outputId": "5569b166-9eab-4bbd-9e52-86f1a6d9bcb8"
      },
      "outputs": [
        {
          "data": {
            "text/html": [
              "<style>#sk-container-id-1 {\n",
              "  /* Definition of color scheme common for light and dark mode */\n",
              "  --sklearn-color-text: black;\n",
              "  --sklearn-color-line: gray;\n",
              "  /* Definition of color scheme for unfitted estimators */\n",
              "  --sklearn-color-unfitted-level-0: #fff5e6;\n",
              "  --sklearn-color-unfitted-level-1: #f6e4d2;\n",
              "  --sklearn-color-unfitted-level-2: #ffe0b3;\n",
              "  --sklearn-color-unfitted-level-3: chocolate;\n",
              "  /* Definition of color scheme for fitted estimators */\n",
              "  --sklearn-color-fitted-level-0: #f0f8ff;\n",
              "  --sklearn-color-fitted-level-1: #d4ebff;\n",
              "  --sklearn-color-fitted-level-2: #b3dbfd;\n",
              "  --sklearn-color-fitted-level-3: cornflowerblue;\n",
              "\n",
              "  /* Specific color for light theme */\n",
              "  --sklearn-color-text-on-default-background: var(--sg-text-color, var(--theme-code-foreground, var(--jp-content-font-color1, black)));\n",
              "  --sklearn-color-background: var(--sg-background-color, var(--theme-background, var(--jp-layout-color0, white)));\n",
              "  --sklearn-color-border-box: var(--sg-text-color, var(--theme-code-foreground, var(--jp-content-font-color1, black)));\n",
              "  --sklearn-color-icon: #696969;\n",
              "\n",
              "  @media (prefers-color-scheme: dark) {\n",
              "    /* Redefinition of color scheme for dark theme */\n",
              "    --sklearn-color-text-on-default-background: var(--sg-text-color, var(--theme-code-foreground, var(--jp-content-font-color1, white)));\n",
              "    --sklearn-color-background: var(--sg-background-color, var(--theme-background, var(--jp-layout-color0, #111)));\n",
              "    --sklearn-color-border-box: var(--sg-text-color, var(--theme-code-foreground, var(--jp-content-font-color1, white)));\n",
              "    --sklearn-color-icon: #878787;\n",
              "  }\n",
              "}\n",
              "\n",
              "#sk-container-id-1 {\n",
              "  color: var(--sklearn-color-text);\n",
              "}\n",
              "\n",
              "#sk-container-id-1 pre {\n",
              "  padding: 0;\n",
              "}\n",
              "\n",
              "#sk-container-id-1 input.sk-hidden--visually {\n",
              "  border: 0;\n",
              "  clip: rect(1px 1px 1px 1px);\n",
              "  clip: rect(1px, 1px, 1px, 1px);\n",
              "  height: 1px;\n",
              "  margin: -1px;\n",
              "  overflow: hidden;\n",
              "  padding: 0;\n",
              "  position: absolute;\n",
              "  width: 1px;\n",
              "}\n",
              "\n",
              "#sk-container-id-1 div.sk-dashed-wrapped {\n",
              "  border: 1px dashed var(--sklearn-color-line);\n",
              "  margin: 0 0.4em 0.5em 0.4em;\n",
              "  box-sizing: border-box;\n",
              "  padding-bottom: 0.4em;\n",
              "  background-color: var(--sklearn-color-background);\n",
              "}\n",
              "\n",
              "#sk-container-id-1 div.sk-container {\n",
              "  /* jupyter's `normalize.less` sets `[hidden] { display: none; }`\n",
              "     but bootstrap.min.css set `[hidden] { display: none !important; }`\n",
              "     so we also need the `!important` here to be able to override the\n",
              "     default hidden behavior on the sphinx rendered scikit-learn.org.\n",
              "     See: https://github.com/scikit-learn/scikit-learn/issues/21755 */\n",
              "  display: inline-block !important;\n",
              "  position: relative;\n",
              "}\n",
              "\n",
              "#sk-container-id-1 div.sk-text-repr-fallback {\n",
              "  display: none;\n",
              "}\n",
              "\n",
              "div.sk-parallel-item,\n",
              "div.sk-serial,\n",
              "div.sk-item {\n",
              "  /* draw centered vertical line to link estimators */\n",
              "  background-image: linear-gradient(var(--sklearn-color-text-on-default-background), var(--sklearn-color-text-on-default-background));\n",
              "  background-size: 2px 100%;\n",
              "  background-repeat: no-repeat;\n",
              "  background-position: center center;\n",
              "}\n",
              "\n",
              "/* Parallel-specific style estimator block */\n",
              "\n",
              "#sk-container-id-1 div.sk-parallel-item::after {\n",
              "  content: \"\";\n",
              "  width: 100%;\n",
              "  border-bottom: 2px solid var(--sklearn-color-text-on-default-background);\n",
              "  flex-grow: 1;\n",
              "}\n",
              "\n",
              "#sk-container-id-1 div.sk-parallel {\n",
              "  display: flex;\n",
              "  align-items: stretch;\n",
              "  justify-content: center;\n",
              "  background-color: var(--sklearn-color-background);\n",
              "  position: relative;\n",
              "}\n",
              "\n",
              "#sk-container-id-1 div.sk-parallel-item {\n",
              "  display: flex;\n",
              "  flex-direction: column;\n",
              "}\n",
              "\n",
              "#sk-container-id-1 div.sk-parallel-item:first-child::after {\n",
              "  align-self: flex-end;\n",
              "  width: 50%;\n",
              "}\n",
              "\n",
              "#sk-container-id-1 div.sk-parallel-item:last-child::after {\n",
              "  align-self: flex-start;\n",
              "  width: 50%;\n",
              "}\n",
              "\n",
              "#sk-container-id-1 div.sk-parallel-item:only-child::after {\n",
              "  width: 0;\n",
              "}\n",
              "\n",
              "/* Serial-specific style estimator block */\n",
              "\n",
              "#sk-container-id-1 div.sk-serial {\n",
              "  display: flex;\n",
              "  flex-direction: column;\n",
              "  align-items: center;\n",
              "  background-color: var(--sklearn-color-background);\n",
              "  padding-right: 1em;\n",
              "  padding-left: 1em;\n",
              "}\n",
              "\n",
              "\n",
              "/* Toggleable style: style used for estimator/Pipeline/ColumnTransformer box that is\n",
              "clickable and can be expanded/collapsed.\n",
              "- Pipeline and ColumnTransformer use this feature and define the default style\n",
              "- Estimators will overwrite some part of the style using the `sk-estimator` class\n",
              "*/\n",
              "\n",
              "/* Pipeline and ColumnTransformer style (default) */\n",
              "\n",
              "#sk-container-id-1 div.sk-toggleable {\n",
              "  /* Default theme specific background. It is overwritten whether we have a\n",
              "  specific estimator or a Pipeline/ColumnTransformer */\n",
              "  background-color: var(--sklearn-color-background);\n",
              "}\n",
              "\n",
              "/* Toggleable label */\n",
              "#sk-container-id-1 label.sk-toggleable__label {\n",
              "  cursor: pointer;\n",
              "  display: block;\n",
              "  width: 100%;\n",
              "  margin-bottom: 0;\n",
              "  padding: 0.5em;\n",
              "  box-sizing: border-box;\n",
              "  text-align: center;\n",
              "}\n",
              "\n",
              "#sk-container-id-1 label.sk-toggleable__label-arrow:before {\n",
              "  /* Arrow on the left of the label */\n",
              "  content: \"▸\";\n",
              "  float: left;\n",
              "  margin-right: 0.25em;\n",
              "  color: var(--sklearn-color-icon);\n",
              "}\n",
              "\n",
              "#sk-container-id-1 label.sk-toggleable__label-arrow:hover:before {\n",
              "  color: var(--sklearn-color-text);\n",
              "}\n",
              "\n",
              "/* Toggleable content - dropdown */\n",
              "\n",
              "#sk-container-id-1 div.sk-toggleable__content {\n",
              "  max-height: 0;\n",
              "  max-width: 0;\n",
              "  overflow: hidden;\n",
              "  text-align: left;\n",
              "  /* unfitted */\n",
              "  background-color: var(--sklearn-color-unfitted-level-0);\n",
              "}\n",
              "\n",
              "#sk-container-id-1 div.sk-toggleable__content.fitted {\n",
              "  /* fitted */\n",
              "  background-color: var(--sklearn-color-fitted-level-0);\n",
              "}\n",
              "\n",
              "#sk-container-id-1 div.sk-toggleable__content pre {\n",
              "  margin: 0.2em;\n",
              "  border-radius: 0.25em;\n",
              "  color: var(--sklearn-color-text);\n",
              "  /* unfitted */\n",
              "  background-color: var(--sklearn-color-unfitted-level-0);\n",
              "}\n",
              "\n",
              "#sk-container-id-1 div.sk-toggleable__content.fitted pre {\n",
              "  /* unfitted */\n",
              "  background-color: var(--sklearn-color-fitted-level-0);\n",
              "}\n",
              "\n",
              "#sk-container-id-1 input.sk-toggleable__control:checked~div.sk-toggleable__content {\n",
              "  /* Expand drop-down */\n",
              "  max-height: 200px;\n",
              "  max-width: 100%;\n",
              "  overflow: auto;\n",
              "}\n",
              "\n",
              "#sk-container-id-1 input.sk-toggleable__control:checked~label.sk-toggleable__label-arrow:before {\n",
              "  content: \"▾\";\n",
              "}\n",
              "\n",
              "/* Pipeline/ColumnTransformer-specific style */\n",
              "\n",
              "#sk-container-id-1 div.sk-label input.sk-toggleable__control:checked~label.sk-toggleable__label {\n",
              "  color: var(--sklearn-color-text);\n",
              "  background-color: var(--sklearn-color-unfitted-level-2);\n",
              "}\n",
              "\n",
              "#sk-container-id-1 div.sk-label.fitted input.sk-toggleable__control:checked~label.sk-toggleable__label {\n",
              "  background-color: var(--sklearn-color-fitted-level-2);\n",
              "}\n",
              "\n",
              "/* Estimator-specific style */\n",
              "\n",
              "/* Colorize estimator box */\n",
              "#sk-container-id-1 div.sk-estimator input.sk-toggleable__control:checked~label.sk-toggleable__label {\n",
              "  /* unfitted */\n",
              "  background-color: var(--sklearn-color-unfitted-level-2);\n",
              "}\n",
              "\n",
              "#sk-container-id-1 div.sk-estimator.fitted input.sk-toggleable__control:checked~label.sk-toggleable__label {\n",
              "  /* fitted */\n",
              "  background-color: var(--sklearn-color-fitted-level-2);\n",
              "}\n",
              "\n",
              "#sk-container-id-1 div.sk-label label.sk-toggleable__label,\n",
              "#sk-container-id-1 div.sk-label label {\n",
              "  /* The background is the default theme color */\n",
              "  color: var(--sklearn-color-text-on-default-background);\n",
              "}\n",
              "\n",
              "/* On hover, darken the color of the background */\n",
              "#sk-container-id-1 div.sk-label:hover label.sk-toggleable__label {\n",
              "  color: var(--sklearn-color-text);\n",
              "  background-color: var(--sklearn-color-unfitted-level-2);\n",
              "}\n",
              "\n",
              "/* Label box, darken color on hover, fitted */\n",
              "#sk-container-id-1 div.sk-label.fitted:hover label.sk-toggleable__label.fitted {\n",
              "  color: var(--sklearn-color-text);\n",
              "  background-color: var(--sklearn-color-fitted-level-2);\n",
              "}\n",
              "\n",
              "/* Estimator label */\n",
              "\n",
              "#sk-container-id-1 div.sk-label label {\n",
              "  font-family: monospace;\n",
              "  font-weight: bold;\n",
              "  display: inline-block;\n",
              "  line-height: 1.2em;\n",
              "}\n",
              "\n",
              "#sk-container-id-1 div.sk-label-container {\n",
              "  text-align: center;\n",
              "}\n",
              "\n",
              "/* Estimator-specific */\n",
              "#sk-container-id-1 div.sk-estimator {\n",
              "  font-family: monospace;\n",
              "  border: 1px dotted var(--sklearn-color-border-box);\n",
              "  border-radius: 0.25em;\n",
              "  box-sizing: border-box;\n",
              "  margin-bottom: 0.5em;\n",
              "  /* unfitted */\n",
              "  background-color: var(--sklearn-color-unfitted-level-0);\n",
              "}\n",
              "\n",
              "#sk-container-id-1 div.sk-estimator.fitted {\n",
              "  /* fitted */\n",
              "  background-color: var(--sklearn-color-fitted-level-0);\n",
              "}\n",
              "\n",
              "/* on hover */\n",
              "#sk-container-id-1 div.sk-estimator:hover {\n",
              "  /* unfitted */\n",
              "  background-color: var(--sklearn-color-unfitted-level-2);\n",
              "}\n",
              "\n",
              "#sk-container-id-1 div.sk-estimator.fitted:hover {\n",
              "  /* fitted */\n",
              "  background-color: var(--sklearn-color-fitted-level-2);\n",
              "}\n",
              "\n",
              "/* Specification for estimator info (e.g. \"i\" and \"?\") */\n",
              "\n",
              "/* Common style for \"i\" and \"?\" */\n",
              "\n",
              ".sk-estimator-doc-link,\n",
              "a:link.sk-estimator-doc-link,\n",
              "a:visited.sk-estimator-doc-link {\n",
              "  float: right;\n",
              "  font-size: smaller;\n",
              "  line-height: 1em;\n",
              "  font-family: monospace;\n",
              "  background-color: var(--sklearn-color-background);\n",
              "  border-radius: 1em;\n",
              "  height: 1em;\n",
              "  width: 1em;\n",
              "  text-decoration: none !important;\n",
              "  margin-left: 1ex;\n",
              "  /* unfitted */\n",
              "  border: var(--sklearn-color-unfitted-level-1) 1pt solid;\n",
              "  color: var(--sklearn-color-unfitted-level-1);\n",
              "}\n",
              "\n",
              ".sk-estimator-doc-link.fitted,\n",
              "a:link.sk-estimator-doc-link.fitted,\n",
              "a:visited.sk-estimator-doc-link.fitted {\n",
              "  /* fitted */\n",
              "  border: var(--sklearn-color-fitted-level-1) 1pt solid;\n",
              "  color: var(--sklearn-color-fitted-level-1);\n",
              "}\n",
              "\n",
              "/* On hover */\n",
              "div.sk-estimator:hover .sk-estimator-doc-link:hover,\n",
              ".sk-estimator-doc-link:hover,\n",
              "div.sk-label-container:hover .sk-estimator-doc-link:hover,\n",
              ".sk-estimator-doc-link:hover {\n",
              "  /* unfitted */\n",
              "  background-color: var(--sklearn-color-unfitted-level-3);\n",
              "  color: var(--sklearn-color-background);\n",
              "  text-decoration: none;\n",
              "}\n",
              "\n",
              "div.sk-estimator.fitted:hover .sk-estimator-doc-link.fitted:hover,\n",
              ".sk-estimator-doc-link.fitted:hover,\n",
              "div.sk-label-container:hover .sk-estimator-doc-link.fitted:hover,\n",
              ".sk-estimator-doc-link.fitted:hover {\n",
              "  /* fitted */\n",
              "  background-color: var(--sklearn-color-fitted-level-3);\n",
              "  color: var(--sklearn-color-background);\n",
              "  text-decoration: none;\n",
              "}\n",
              "\n",
              "/* Span, style for the box shown on hovering the info icon */\n",
              ".sk-estimator-doc-link span {\n",
              "  display: none;\n",
              "  z-index: 9999;\n",
              "  position: relative;\n",
              "  font-weight: normal;\n",
              "  right: .2ex;\n",
              "  padding: .5ex;\n",
              "  margin: .5ex;\n",
              "  width: min-content;\n",
              "  min-width: 20ex;\n",
              "  max-width: 50ex;\n",
              "  color: var(--sklearn-color-text);\n",
              "  box-shadow: 2pt 2pt 4pt #999;\n",
              "  /* unfitted */\n",
              "  background: var(--sklearn-color-unfitted-level-0);\n",
              "  border: .5pt solid var(--sklearn-color-unfitted-level-3);\n",
              "}\n",
              "\n",
              ".sk-estimator-doc-link.fitted span {\n",
              "  /* fitted */\n",
              "  background: var(--sklearn-color-fitted-level-0);\n",
              "  border: var(--sklearn-color-fitted-level-3);\n",
              "}\n",
              "\n",
              ".sk-estimator-doc-link:hover span {\n",
              "  display: block;\n",
              "}\n",
              "\n",
              "/* \"?\"-specific style due to the `<a>` HTML tag */\n",
              "\n",
              "#sk-container-id-1 a.estimator_doc_link {\n",
              "  float: right;\n",
              "  font-size: 1rem;\n",
              "  line-height: 1em;\n",
              "  font-family: monospace;\n",
              "  background-color: var(--sklearn-color-background);\n",
              "  border-radius: 1rem;\n",
              "  height: 1rem;\n",
              "  width: 1rem;\n",
              "  text-decoration: none;\n",
              "  /* unfitted */\n",
              "  color: var(--sklearn-color-unfitted-level-1);\n",
              "  border: var(--sklearn-color-unfitted-level-1) 1pt solid;\n",
              "}\n",
              "\n",
              "#sk-container-id-1 a.estimator_doc_link.fitted {\n",
              "  /* fitted */\n",
              "  border: var(--sklearn-color-fitted-level-1) 1pt solid;\n",
              "  color: var(--sklearn-color-fitted-level-1);\n",
              "}\n",
              "\n",
              "/* On hover */\n",
              "#sk-container-id-1 a.estimator_doc_link:hover {\n",
              "  /* unfitted */\n",
              "  background-color: var(--sklearn-color-unfitted-level-3);\n",
              "  color: var(--sklearn-color-background);\n",
              "  text-decoration: none;\n",
              "}\n",
              "\n",
              "#sk-container-id-1 a.estimator_doc_link.fitted:hover {\n",
              "  /* fitted */\n",
              "  background-color: var(--sklearn-color-fitted-level-3);\n",
              "}\n",
              "</style><div id=\"sk-container-id-1\" class=\"sk-top-container\"><div class=\"sk-text-repr-fallback\"><pre>KNeighborsClassifier(n_neighbors=15)</pre><b>In a Jupyter environment, please rerun this cell to show the HTML representation or trust the notebook. <br />On GitHub, the HTML representation is unable to render, please try loading this page with nbviewer.org.</b></div><div class=\"sk-container\" hidden><div class=\"sk-item\"><div class=\"sk-estimator fitted sk-toggleable\"><input class=\"sk-toggleable__control sk-hidden--visually\" id=\"sk-estimator-id-1\" type=\"checkbox\" checked><label for=\"sk-estimator-id-1\" class=\"sk-toggleable__label fitted sk-toggleable__label-arrow fitted\">&nbsp;&nbsp;KNeighborsClassifier<a class=\"sk-estimator-doc-link fitted\" rel=\"noreferrer\" target=\"_blank\" href=\"https://scikit-learn.org/1.5/modules/generated/sklearn.neighbors.KNeighborsClassifier.html\">?<span>Documentation for KNeighborsClassifier</span></a><span class=\"sk-estimator-doc-link fitted\">i<span>Fitted</span></span></label><div class=\"sk-toggleable__content fitted\"><pre>KNeighborsClassifier(n_neighbors=15)</pre></div> </div></div></div></div>"
            ],
            "text/plain": [
              "KNeighborsClassifier(n_neighbors=15)"
            ]
          },
          "execution_count": 21,
          "metadata": {},
          "output_type": "execute_result"
        }
      ],
      "source": [
        "from sklearn.neighbors import KNeighborsClassifier\n",
        "\n",
        "knn = KNeighborsClassifier(n_neighbors=15)\n",
        "knn.fit(X_train_scaled, y_train)\n"
      ]
    },
    {
      "cell_type": "markdown",
      "metadata": {
        "id": "804149e8"
      },
      "source": [
        "## Fazer previsões\n",
        "\n",
        "### Subtask:\n",
        "Usar o modelo treinado para fazer previsões no conjunto de teste.\n"
      ]
    },
    {
      "cell_type": "markdown",
      "metadata": {
        "id": "918a639b"
      },
      "source": [
        "**Reasoning**:\n",
        "Use the trained KNN model to make predictions on the test feature set.\n",
        "\n"
      ]
    },
    {
      "cell_type": "code",
      "execution_count": 22,
      "metadata": {
        "id": "9244893a"
      },
      "outputs": [],
      "source": [
        "y_pred = knn.predict(X_test_scaled)\n"
      ]
    },
    {
      "cell_type": "markdown",
      "metadata": {
        "id": "9e6aa21e"
      },
      "source": [
        "## Avaliar a acurácia\n",
        "\n",
        "### Subtask:\n",
        "Calcular a acurácia do modelo comparando as previsões com os valores reais do conjunto de teste.\n"
      ]
    },
    {
      "cell_type": "markdown",
      "metadata": {
        "id": "54d455aa"
      },
      "source": [
        "**Reasoning**:\n",
        "Calculate the accuracy of the model by comparing the predicted values with the actual values from the test set.\n",
        "\n"
      ]
    },
    {
      "cell_type": "code",
      "execution_count": 23,
      "metadata": {
        "colab": {
          "base_uri": "https://localhost:8080/"
        },
        "id": "91b53e90",
        "outputId": "e954f776-b376-45c8-eb26-2d10e95d9da3"
      },
      "outputs": [
        {
          "name": "stdout",
          "output_type": "stream",
          "text": [
            "Acurácia: 0.9158333333333334\n",
            "Precisão: 0.9964186231595702\n",
            "Recall (TPR): 0.8346666666666667\n",
            "F1-score: 0.9083983312171232\n",
            "True Negative Rate (TNR): 0.997\n",
            "Matriz de Confusão:\n",
            "[[14955    45]\n",
            " [ 2480 12520]]\n"
          ]
        }
      ],
      "source": [
        "from sklearn.metrics import accuracy_score, precision_score, recall_score, f1_score, confusion_matrix\n",
        "\n",
        "accuracy = accuracy_score(y_test, y_pred)\n",
        "precision = precision_score(y_test, y_pred)\n",
        "recall = recall_score(y_test, y_pred)\n",
        "f1 = f1_score(y_test, y_pred)\n",
        "\n",
        "tn, fp, fn, tp = confusion_matrix(y_test, y_pred).ravel()\n",
        "\n",
        "tpr = recall  # mesmo que tp / (tp + fn)\n",
        "tnr = tn / (tn + fp)\n",
        "\n",
        "cm = confusion_matrix(y_test, y_pred)\n",
        "\n",
        "print(\"Acurácia:\", accuracy)\n",
        "print(\"Precisão:\", precision)\n",
        "print(\"Recall (TPR):\", recall)\n",
        "print(\"F1-score:\", f1)\n",
        "print(\"True Negative Rate (TNR):\", tnr)\n",
        "print(\"Matriz de Confusão:\")\n",
        "print(cm)\n"
      ]
    },
    {
      "cell_type": "code",
      "execution_count": 24,
      "metadata": {
        "colab": {
          "base_uri": "https://localhost:8080/"
        },
        "id": "7v3P9B8bR67j",
        "outputId": "b446b40f-cc42-4615-a8e5-d35d9fe5413d"
      },
      "outputs": [
        {
          "name": "stdout",
          "output_type": "stream",
          "text": [
            "### Métricas no TREINO ###\n",
            "Acurácia: 0.9244857142857142\n",
            "Precisão: 0.9971889431764942\n",
            "Recall (TPR): 0.8513714285714286\n",
            "F1-score: 0.9185290219167104\n",
            "True Negative Rate (TNR): 0.9976\n",
            "\n",
            "### Métricas no TESTE ###\n",
            "Acurácia: 0.9158333333333334\n",
            "Precisão: 0.9964186231595702\n",
            "Recall (TPR): 0.8346666666666667\n",
            "F1-score: 0.9083983312171232\n",
            "True Negative Rate (TNR): 0.997\n"
          ]
        }
      ],
      "source": [
        "# treino\n",
        "from sklearn.metrics import accuracy_score, precision_score, recall_score, f1_score, confusion_matrix\n",
        "\n",
        "# Previsão no conjunto de treino (CORRIGIDO - usando dados escalonados)\n",
        "y_train_pred = knn.predict(X_train_scaled)\n",
        "\n",
        "# Métricas no treino\n",
        "accuracy_train = accuracy_score(y_train, y_train_pred)\n",
        "precision_train = precision_score(y_train, y_train_pred)\n",
        "recall_train = recall_score(y_train, y_train_pred)\n",
        "f1_train = f1_score(y_train, y_train_pred)\n",
        "tn, fp, fn, tp = confusion_matrix(y_train, y_train_pred).ravel()\n",
        "tpr_train = recall_train  # tp / (tp + fn)\n",
        "tnr_train = tn / (tn + fp)\n",
        "\n",
        "print(\"### Métricas no TREINO ###\")\n",
        "print(\"Acurácia:\", accuracy_train)\n",
        "print(\"Precisão:\", precision_train)\n",
        "print(\"Recall (TPR):\", recall_train)\n",
        "print(\"F1-score:\", f1_train)\n",
        "print(\"True Negative Rate (TNR):\", tnr_train)\n",
        "\n",
        "print(\"\\n### Métricas no TESTE ###\")\n",
        "print(\"Acurácia:\", accuracy)\n",
        "print(\"Precisão:\", precision)\n",
        "print(\"Recall (TPR):\", recall)\n",
        "print(\"F1-score:\", f1)\n",
        "print(\"True Negative Rate (TNR):\", tnr)\n"
      ]
    },
    {
      "cell_type": "code",
      "execution_count": 25,
      "metadata": {
        "id": "validation_analysis"
      },
      "outputs": [
        {
          "name": "stdout",
          "output_type": "stream",
          "text": [
            "\n",
            "==================================================\n",
            "VALIDAÇÃO CRUZADA 5-FOLDS\n",
            "==================================================\n",
            "Acurácia - Treino: 0.9277 ± 0.0007\n",
            "Acurácia - Validação: 0.9183 ± 0.0010\n",
            "Precisão - Treino: 0.9972 ± 0.0001\n",
            "Precisão - Validação: 0.9968 ± 0.0005\n",
            "Recall - Treino: 0.8578 ± 0.0014\n",
            "Recall - Validação: 0.8393 ± 0.0017\n",
            "F1-score - Treino: 0.9223 ± 0.0008\n",
            "F1-score - Validação: 0.9113 ± 0.0012\n",
            "\n",
            "✅ Modelo parece estar generalizando bem.\n",
            "Diferença de acurácia treino-validação: 0.0094\n"
          ]
        }
      ],
      "source": [
        "# EXECUTANDO VALIDAÇÃO CRUZADA PARA DETECTAR OVERFITTING\n",
        "print(\"\\n\" + \"=\"*50)\n",
        "print(\"VALIDAÇÃO CRUZADA 5-FOLDS\")\n",
        "print(\"=\"*50)\n",
        "\n",
        "from sklearn.model_selection import cross_validate, StratifiedKFold\n",
        "from sklearn.metrics import make_scorer\n",
        "from sklearn.pipeline import Pipeline\n",
        "\n",
        "# Criando pipeline com normalização + KNN\n",
        "pipeline = Pipeline([\n",
        "    ('scaler', StandardScaler()),\n",
        "    ('knn', KNeighborsClassifier(n_neighbors=15))\n",
        "])\n",
        "\n",
        "cv = StratifiedKFold(n_splits=5, shuffle=True, random_state=42)\n",
        "\n",
        "scoring = {\n",
        "    'accuracy': make_scorer(accuracy_score),\n",
        "    'precision': make_scorer(precision_score),\n",
        "    'recall': make_scorer(recall_score),\n",
        "    'f1': make_scorer(f1_score)\n",
        "}\n",
        "\n",
        "cv_results = cross_validate(pipeline, X_sample, y_sample, cv=cv, scoring=scoring, return_train_score=True)\n",
        "\n",
        "print(f\"Acurácia - Treino: {cv_results['train_accuracy'].mean():.4f} ± {cv_results['train_accuracy'].std():.4f}\")\n",
        "print(f\"Acurácia - Validação: {cv_results['test_accuracy'].mean():.4f} ± {cv_results['test_accuracy'].std():.4f}\")\n",
        "print(f\"Precisão - Treino: {cv_results['train_precision'].mean():.4f} ± {cv_results['train_precision'].std():.4f}\")\n",
        "print(f\"Precisão - Validação: {cv_results['test_precision'].mean():.4f} ± {cv_results['test_precision'].std():.4f}\")\n",
        "print(f\"Recall - Treino: {cv_results['train_recall'].mean():.4f} ± {cv_results['train_recall'].std():.4f}\")\n",
        "print(f\"Recall - Validação: {cv_results['test_recall'].mean():.4f} ± {cv_results['test_recall'].std():.4f}\")\n",
        "print(f\"F1-score - Treino: {cv_results['train_f1'].mean():.4f} ± {cv_results['train_f1'].std():.4f}\")\n",
        "print(f\"F1-score - Validação: {cv_results['test_f1'].mean():.4f} ± {cv_results['test_f1'].std():.4f}\")\n",
        "\n",
        "# Detectando overfitting\n",
        "acc_diff = cv_results['train_accuracy'].mean() - cv_results['test_accuracy'].mean()\n",
        "if acc_diff > 0.05:\n",
        "    print(f\"\\n⚠️  POSSÍVEL OVERFITTING DETECTADO!\")\n",
        "    print(f\"Diferença de acurácia treino-validação: {acc_diff:.4f}\")\n",
        "else:\n",
        "    print(f\"\\n✅ Modelo parece estar generalizando bem.\")\n",
        "    print(f\"Diferença de acurácia treino-validação: {acc_diff:.4f}\")\n"
      ]
    },
    {
      "cell_type": "markdown",
      "metadata": {
        "id": "ade06dde"
      },
      "source": [
        "## Relatório de desempenho computacional\n",
        "\n",
        "### Subtask:\n",
        "Medir o tempo gasto no treinamento e na previsão e apresentar esses resultados.\n"
      ]
    },
    {
      "cell_type": "markdown",
      "metadata": {
        "id": "a04f926e"
      },
      "source": [
        "**Reasoning**:\n",
        "Measure the training time of the KNN model.\n",
        "\n"
      ]
    },
    {
      "cell_type": "code",
      "execution_count": 26,
      "metadata": {
        "id": "92de447b"
      },
      "outputs": [
        {
          "name": "stdout",
          "output_type": "stream",
          "text": [
            "Training Time: 0.1036 seconds\n"
          ]
        }
      ],
      "source": [
        "import time\n",
        "\n",
        "start_time_train = time.time()\n",
        "knn.fit(X_train_scaled, y_train)\n",
        "end_time_train = time.time()\n",
        "\n",
        "training_time = end_time_train - start_time_train\n",
        "print(f\"Training Time: {training_time:.4f} seconds\")\n"
      ]
    },
    {
      "cell_type": "markdown",
      "metadata": {
        "id": "4086bf1b"
      },
      "source": [
        "**Reasoning**:\n",
        "Measure the prediction time of the KNN model and then display both training and prediction times.\n",
        "\n"
      ]
    },
    {
      "cell_type": "code",
      "execution_count": 27,
      "metadata": {
        "id": "-cdVnd09y59a"
      },
      "outputs": [
        {
          "name": "stdout",
          "output_type": "stream",
          "text": [
            "Requirement already satisfied: memory-profiler in /Library/Frameworks/Python.framework/Versions/3.11/lib/python3.11/site-packages (0.61.0)\n",
            "Requirement already satisfied: psutil in /Library/Frameworks/Python.framework/Versions/3.11/lib/python3.11/site-packages (from memory-profiler) (6.1.1)\n",
            "\n",
            "\u001b[1m[\u001b[0m\u001b[34;49mnotice\u001b[0m\u001b[1;39;49m]\u001b[0m\u001b[39;49m A new release of pip is available: \u001b[0m\u001b[31;49m24.2\u001b[0m\u001b[39;49m -> \u001b[0m\u001b[32;49m25.1.1\u001b[0m\n",
            "\u001b[1m[\u001b[0m\u001b[34;49mnotice\u001b[0m\u001b[1;39;49m]\u001b[0m\u001b[39;49m To update, run: \u001b[0m\u001b[32;49mpip install --upgrade pip\u001b[0m\n",
            "Note: you may need to restart the kernel to use updated packages.\n"
          ]
        }
      ],
      "source": [
        "pip install memory-profiler"
      ]
    },
    {
      "cell_type": "code",
      "execution_count": 28,
      "metadata": {
        "id": "2u4oiIaazKSG"
      },
      "outputs": [
        {
          "name": "stdout",
          "output_type": "stream",
          "text": [
            "Requirement already satisfied: psutil in /Library/Frameworks/Python.framework/Versions/3.11/lib/python3.11/site-packages (6.1.1)\n",
            "Requirement already satisfied: memory-profiler in /Library/Frameworks/Python.framework/Versions/3.11/lib/python3.11/site-packages (0.61.0)\n",
            "\n",
            "\u001b[1m[\u001b[0m\u001b[34;49mnotice\u001b[0m\u001b[1;39;49m]\u001b[0m\u001b[39;49m A new release of pip is available: \u001b[0m\u001b[31;49m24.2\u001b[0m\u001b[39;49m -> \u001b[0m\u001b[32;49m25.1.1\u001b[0m\n",
            "\u001b[1m[\u001b[0m\u001b[34;49mnotice\u001b[0m\u001b[1;39;49m]\u001b[0m\u001b[39;49m To update, run: \u001b[0m\u001b[32;49mpip install --upgrade pip\u001b[0m\n",
            "Note: you may need to restart the kernel to use updated packages.\n"
          ]
        }
      ],
      "source": [
        "pip install psutil memory-profiler\n"
      ]
    },
    {
      "cell_type": "code",
      "execution_count": 29,
      "metadata": {},
      "outputs": [
        {
          "name": "stdout",
          "output_type": "stream",
          "text": [
            "Prediction Time: 13.0426 seconds\n"
          ]
        }
      ],
      "source": [
        "start_time_pred = time.time()\n",
        "y_pred = knn.predict(X_test_scaled)\n",
        "end_time_pred = time.time()\n",
        "\n",
        "prediction_time = end_time_pred - start_time_pred\n",
        "print(f\"Prediction Time: {prediction_time:.4f} seconds\")\n"
      ]
    },
    {
      "cell_type": "code",
      "execution_count": 30,
      "metadata": {},
      "outputs": [
        {
          "name": "stdout",
          "output_type": "stream",
          "text": [
            "Prediction Time: 11.4989 seconds\n"
          ]
        }
      ],
      "source": [
        "start_time_pred = time.time()\n",
        "y_pred = knn.predict(X_test_scaled)\n",
        "end_time_pred = time.time()\n",
        "\n",
        "prediction_time = end_time_pred - start_time_pred\n",
        "print(f\"Prediction Time: {prediction_time:.4f} seconds\")\n"
      ]
    },
    {
      "cell_type": "code",
      "execution_count": 31,
      "metadata": {},
      "outputs": [
        {
          "name": "stdout",
          "output_type": "stream",
          "text": [
            "Prediction Time: 11.4944 seconds\n"
          ]
        }
      ],
      "source": [
        "start_time_pred = time.time()\n",
        "y_pred = knn.predict(X_test_scaled)\n",
        "end_time_pred = time.time()\n",
        "\n",
        "prediction_time = end_time_pred - start_time_pred\n",
        "print(f\"Prediction Time: {prediction_time:.4f} seconds\")\n"
      ]
    },
    {
      "cell_type": "code",
      "execution_count": 32,
      "metadata": {},
      "outputs": [
        {
          "name": "stdout",
          "output_type": "stream",
          "text": [
            "Prediction Time: 11.3843 seconds\n"
          ]
        }
      ],
      "source": [
        "start_time_pred = time.time()\n",
        "y_pred = knn.predict(X_test_scaled)\n",
        "end_time_pred = time.time()\n",
        "\n",
        "prediction_time = end_time_pred - start_time_pred\n",
        "print(f\"Prediction Time: {prediction_time:.4f} seconds\")\n"
      ]
    },
    {
      "cell_type": "code",
      "execution_count": 33,
      "metadata": {},
      "outputs": [
        {
          "name": "stdout",
          "output_type": "stream",
          "text": [
            "Prediction Time: 12.6824 seconds\n"
          ]
        }
      ],
      "source": [
        "start_time_pred = time.time()\n",
        "y_pred = knn.predict(X_test_scaled)\n",
        "end_time_pred = time.time()\n",
        "\n",
        "prediction_time = end_time_pred - start_time_pred\n",
        "print(f\"Prediction Time: {prediction_time:.4f} seconds\")\n"
      ]
    },
    {
      "cell_type": "code",
      "execution_count": 34,
      "metadata": {},
      "outputs": [
        {
          "name": "stdout",
          "output_type": "stream",
          "text": [
            "Prediction Time: 10.2253 seconds\n"
          ]
        }
      ],
      "source": [
        "start_time_pred = time.time()\n",
        "y_pred = knn.predict(X_test_scaled)\n",
        "end_time_pred = time.time()\n",
        "\n",
        "prediction_time = end_time_pred - start_time_pred\n",
        "print(f\"Prediction Time: {prediction_time:.4f} seconds\")\n"
      ]
    },
    {
      "cell_type": "code",
      "execution_count": 35,
      "metadata": {
        "id": "DhWtw_xJPnSc"
      },
      "outputs": [
        {
          "name": "stdout",
          "output_type": "stream",
          "text": [
            "=== Validação Cruzada 5-Folds ===\n",
            "Acurácia média: 0.7622\n",
            "Precisão média: 0.9209\n",
            "Recall médio: 0.5738\n",
            "F1-score médio: 0.7070\n"
          ]
        }
      ],
      "source": [
        "from sklearn.model_selection import cross_validate, StratifiedKFold\n",
        "from sklearn.metrics import make_scorer, accuracy_score, precision_score, recall_score, f1_score\n",
        "\n",
        "knn_cv = KNeighborsClassifier(n_neighbors=15)\n",
        "cv = StratifiedKFold(n_splits=5, shuffle=True, random_state=42)\n",
        "\n",
        "scoring = {\n",
        "    'accuracy': make_scorer(accuracy_score),\n",
        "    'precision': make_scorer(precision_score),\n",
        "    'recall': make_scorer(recall_score),\n",
        "    'f1': make_scorer(f1_score)\n",
        "}\n",
        "\n",
        "cv_results = cross_validate(knn_cv, X_sample, y_sample, cv=cv, scoring=scoring)\n",
        "\n",
        "print(\"=== Validação Cruzada 5-Folds ===\")\n",
        "print(f\"Acurácia média: {cv_results['test_accuracy'].mean():.4f}\")\n",
        "print(f\"Precisão média: {cv_results['test_precision'].mean():.4f}\")\n",
        "print(f\"Recall médio: {cv_results['test_recall'].mean():.4f}\")\n",
        "print(f\"F1-score médio: {cv_results['test_f1'].mean():.4f}\")\n"
      ]
    },
    {
      "cell_type": "code",
      "execution_count": 36,
      "metadata": {
        "id": "KnVT1YMmy6te"
      },
      "outputs": [
        {
          "name": "stdout",
          "output_type": "stream",
          "text": [
            "=== DESEMPENHO COMPUTACIONAL ===\n",
            "🕒 Tempo de Treinamento: 0.6636 s\n",
            "🕒 Tempo de Predição: 11.3154 s\n",
            "📈 Memória (Treinamento): 198.16 MB\n",
            "📈 Memória (Predição): 201.12 MB\n",
            "⚙️ CPU usada na predição: 91.20%\n",
            "📊 Instâncias por segundo (treinamento): 105483.95\n",
            "📊 Instâncias por segundo (predição): 2651.24\n"
          ]
        }
      ],
      "source": [
        "import time\n",
        "import psutil\n",
        "from memory_profiler import memory_usage\n",
        "from sklearn.neighbors import KNeighborsClassifier\n",
        "\n",
        "process = psutil.Process()\n",
        "\n",
        "# Definindo o classificador com k=15\n",
        "knn = KNeighborsClassifier(n_neighbors=5)\n",
        "\n",
        "# Função de treinamento com dados escalonados\n",
        "def train_model():\n",
        "    knn.fit(X_train_scaled, y_train)\n",
        "\n",
        "start_time_train = time.time()\n",
        "mem_usage_train = memory_usage(train_model)\n",
        "end_time_train = time.time()\n",
        "training_time = end_time_train - start_time_train\n",
        "train_ips = len(X_train_scaled) / training_time\n",
        "\n",
        "# Função de predição\n",
        "def predict_model():\n",
        "    global y_pred\n",
        "    y_pred = knn.predict(X_test_scaled)\n",
        "\n",
        "cpu_percent_before = process.cpu_percent(interval=None)\n",
        "start_time_pred = time.time()\n",
        "mem_usage_pred = memory_usage(predict_model)\n",
        "end_time_pred = time.time()\n",
        "cpu_percent_after = process.cpu_percent(interval=None)\n",
        "\n",
        "prediction_time = end_time_pred - start_time_pred\n",
        "pred_ips = len(X_test_scaled) / prediction_time\n",
        "\n",
        "print(\"=== DESEMPENHO COMPUTACIONAL ===\")\n",
        "print(f\"🕒 Tempo de Treinamento: {training_time:.4f} s\")\n",
        "print(f\"🕒 Tempo de Predição: {prediction_time:.4f} s\")\n",
        "print(f\"📈 Memória (Treinamento): {max(mem_usage_train):.2f} MB\")\n",
        "print(f\"📈 Memória (Predição): {max(mem_usage_pred):.2f} MB\")\n",
        "print(f\"⚙️ CPU usada na predição: {cpu_percent_after:.2f}%\")\n",
        "print(f\"📊 Instâncias por segundo (treinamento): {train_ips:.2f}\")\n",
        "print(f\"📊 Instâncias por segundo (predição): {pred_ips:.2f}\")\n"
      ]
    },
    {
      "cell_type": "markdown",
      "metadata": {
        "id": "analysis_summary"
      },
      "source": [
        "# 🔍 ANÁLISE DOS PROBLEMAS IDENTIFICADOS\n",
        "\n",
        "## ❌ Problemas Críticos Corrigidos:\n",
        "\n",
        "### 1. **VAZAMENTO DE DADOS (Data Leakage)**\n",
        "- **Problema**: Predição no treino usando `X_train` (não escalonado) vs modelo treinado com `X_train_scaled`\n",
        "- **Correção**: Usar `X_train_scaled` para predições no treino\n",
        "\n",
        "### 2. **FEATURES COM VAZAMENTO TEMPORAL**\n",
        "- **Problema**: Usar informações disponíveis apenas APÓS o voo (ARRIVAL_TIME, WHEELS_ON, etc.)\n",
        "- **Correção**: Remover features que só estariam disponíveis após o evento que queremos prever\n",
        "\n",
        "### 3. **FALTA DE VALIDAÇÃO CRUZADA**\n",
        "- **Problema**: Não executar validação cruzada para detectar overfitting\n",
        "- **Correção**: Implementar 5-fold cross-validation com pipeline adequado\n",
        "\n",
        "## ✅ Melhorias Implementadas:\n",
        "\n",
        "1. **Pipeline consistente** com StandardScaler + KNN\n",
        "2. **Validação cruzada** para detectar overfitting\n",
        "3. **Remoção de features problemáticas**\n",
        "4. **Análise comparativa** treino vs validação\n",
        "\n",
        "## 📊 Próximos Passos Recomendados:\n",
        "\n",
        "1. **Re-executar o pipeline corrigido**\n",
        "2. **Comparar métricas antes/depois das correções**\n",
        "3. **Analisar se ainda há overfitting**\n",
        "4. **Considerar feature engineering adicional**\n",
        "5. **Testar outros valores de K no KNN**\n"
      ]
    },
    {
      "cell_type": "markdown",
      "metadata": {
        "id": "680be4c5"
      },
      "source": [
        "## Summary:\n",
        "\n",
        "### Data Analysis Key Findings\n",
        "\n",
        "*   The data was split into training and testing sets with 80% for training and 20% for testing.\n",
        "*   A K-Nearest Neighbors (KNN) classifier was trained on the training data.\n",
        "*   The trained KNN model achieved an accuracy of approximately 93.11% on the test set.\n",
        "*   The training time for the KNN model was approximately 0.0195 seconds.\n",
        "*   The prediction time for the KNN model on the test set was approximately 14.4344 seconds.\n",
        "\n",
        "### Insights or Next Steps\n",
        "\n",
        "*   The KNN model shows a high accuracy on the test set, suggesting it performs well on this specific dataset.\n",
        "*   The prediction time is significantly higher than the training time, which is characteristic of the KNN algorithm. For larger datasets or real-time predictions, exploring more computationally efficient models or optimization techniques for KNN might be necessary.\n"
      ]
    },
    {
      "cell_type": "markdown",
      "metadata": {
        "id": "b356eb08"
      },
      "source": [
        "## Normalizar os dados\n",
        "\n",
        "### Subtask:\n",
        "Aplicar `StandardScaler` aos conjuntos de treino e teste para normalizar os dados."
      ]
    },
    {
      "cell_type": "markdown",
      "metadata": {
        "id": "229afbac"
      },
      "source": [
        "**Reasoning**:\n",
        "Split the balanced dataset into training and testing sets, train a KNN model, make predictions, and evaluate its performance using various metrics.\n",
        "\n"
      ]
    },
    {
      "cell_type": "markdown",
      "metadata": {
        "id": "39ebbd32"
      },
      "source": [
        "# Task\n",
        "Perform hold-out validation (70/30 split with stratified sampling) and 5-fold cross-validation on the balanced dataset (`df_undersampled`) using a KNN model to evaluate its performance and assess for overfitting. Report the performance metrics (accuracy, precision, recall, F1-score, confusion matrix) for both validation strategies and compare the results."
      ]
    },
    {
      "cell_type": "markdown",
      "metadata": {
        "id": "b863c259"
      },
      "source": [
        "# Task\n",
        "Review the provided Python code and output from a machine learning experiment using KNN, focusing on data normalization, train/test split (70/30 stratified hold-out), k-fold cross-validation (k=5), and the analysis of performance metrics (accuracy, precision, recall, F1-score, TNR, confusion matrix) to identify potential issues, particularly overfitting, and suggest improvements."
      ]
    },
    {
      "cell_type": "markdown",
      "metadata": {
        "id": "613e046e"
      },
      "source": [
        "## Revisão do código e lógica\n",
        "\n",
        "### Subtask:\n",
        "Analisar as células de código existentes para identificar possíveis erros, ineficiências ou inconsistências na lógica de processamento de dados e modelagem.\n"
      ]
    },
    {
      "cell_type": "markdown",
      "metadata": {
        "id": "ec306289"
      },
      "source": [
        "**Reasoning**:\n",
        "Analyze the data loading and initial inspection steps.\n",
        "\n"
      ]
    },
    {
      "cell_type": "code",
      "execution_count": null,
      "metadata": {},
      "outputs": [],
      "source": []
    },
    {
      "cell_type": "markdown",
      "metadata": {
        "id": "5f4264bb"
      },
      "source": [
        "**Reasoning**:\n",
        "Analyze the data cleaning steps for potential errors or inefficiencies.\n",
        "\n"
      ]
    },
    {
      "cell_type": "markdown",
      "metadata": {
        "id": "0d3a889f"
      },
      "source": [
        "**Reasoning**:\n",
        "Analyze the feature engineering and data balancing steps.\n",
        "\n"
      ]
    },
    {
      "cell_type": "markdown",
      "metadata": {
        "id": "ad376cfc"
      },
      "source": [
        "**Reasoning**:\n",
        "Analyze the data splitting and scaling steps for correctness.\n",
        "\n"
      ]
    }
  ],
  "metadata": {
    "colab": {
      "provenance": []
    },
    "kernelspec": {
      "display_name": "Python 3",
      "name": "python3"
    },
    "language_info": {
      "codemirror_mode": {
        "name": "ipython",
        "version": 3
      },
      "file_extension": ".py",
      "mimetype": "text/x-python",
      "name": "python",
      "nbconvert_exporter": "python",
      "pygments_lexer": "ipython3",
      "version": "3.11.6"
    }
  },
  "nbformat": 4,
  "nbformat_minor": 0
}
