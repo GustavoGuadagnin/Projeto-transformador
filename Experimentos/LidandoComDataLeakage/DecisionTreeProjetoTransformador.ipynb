{
  "cells": [
    {
      "cell_type": "markdown",
      "metadata": {
        "colab_type": "text",
        "id": "view-in-github"
      },
      "source": [
        "<a href=\"https://colab.research.google.com/github/gustavocoradin/Projeto-transformador/blob/main/DecisionTreeProjetoTransformador.ipynb\" target=\"_parent\"><img src=\"https://colab.research.google.com/assets/colab-badge.svg\" alt=\"Open In Colab\"/></a>"
      ]
    },
    {
      "cell_type": "markdown",
      "metadata": {
        "id": "dt_title"
      },
      "source": [
        "# Previsão de Atrasos e Cancelamentos de Voos: Implementação de Decision Trees\n",
        "\n",
        "## Objetivo\n",
        "Implementar e avaliar um modelo Decision Tree para previsão de atrasos de voos, mantendo a mesma metodologia e pipeline do KNN para comparação justa.\n",
        "\n",
        "## Configuração do Modelo\n",
        "- **Algoritmo**: Decision Tree Classifier\n",
        "- **max_depth**: 10 (controle de overfitting)\n",
        "- **criterion**: 'gini' (critério de divisão)\n",
        "- **Dataset**: 100k amostras (50k por classe)\n",
        "- **Metodologia**: Mesma estrutura do KNN com correção de data leakage"
      ]
    },
    {
      "cell_type": "code",
      "execution_count": 1,
      "metadata": {
        "id": "dt_imports"
      },
      "outputs": [],
      "source": [
        "# Importações necessárias\n",
        "import numpy as np\n",
        "import pandas as pd\n",
        "import seaborn as sns\n",
        "import matplotlib.pyplot as plt\n",
        "import datetime as datetime\n",
        "import warnings\n",
        "warnings.filterwarnings('ignore')\n",
        "\n",
        "# Imports para ML\n",
        "from sklearn.tree import DecisionTreeClassifier\n",
        "from sklearn.model_selection import train_test_split, cross_validate, StratifiedKFold\n",
        "from sklearn.metrics import accuracy_score, precision_score, recall_score, f1_score, confusion_matrix, make_scorer\n",
        "import time\n",
        "import psutil\n",
        "from memory_profiler import memory_usage"
      ]
    },
    {
      "cell_type": "code",
      "execution_count": 2,
      "metadata": {},
      "outputs": [],
      "source": [
        "# Importações necessárias\n",
        "import numpy as np\n",
        "import pandas as pd\n",
        "import seaborn as sns\n",
        "import matplotlib.pyplot as plt\n",
        "import datetime as datetime\n",
        "import warnings\n",
        "warnings.filterwarnings('ignore')\n",
        "\n",
        "# Imports para ML\n",
        "from sklearn.tree import DecisionTreeClassifier\n",
        "from sklearn.model_selection import train_test_split, cross_validate, StratifiedKFold\n",
        "from sklearn.metrics import accuracy_score, precision_score, recall_score, f1_score, confusion_matrix, make_scorer\n",
        "import time\n",
        "import psutil\n",
        "from memory_profiler import memory_usage"
      ]
    },
    {
      "cell_type": "code",
      "execution_count": 3,
      "metadata": {},
      "outputs": [],
      "source": [
        "# Importações necessárias\n",
        "import numpy as np\n",
        "import pandas as pd\n",
        "import seaborn as sns\n",
        "import matplotlib.pyplot as plt\n",
        "import datetime as datetime\n",
        "import warnings\n",
        "warnings.filterwarnings('ignore')\n",
        "\n",
        "# Imports para ML\n",
        "from sklearn.tree import DecisionTreeClassifier\n",
        "from sklearn.model_selection import train_test_split, cross_validate, StratifiedKFold\n",
        "from sklearn.metrics import accuracy_score, precision_score, recall_score, f1_score, confusion_matrix, make_scorer\n",
        "import time\n",
        "import psutil\n",
        "from memory_profiler import memory_usage"
      ]
    },
    {
      "cell_type": "code",
      "execution_count": 4,
      "metadata": {},
      "outputs": [],
      "source": [
        "# Importações necessárias\n",
        "import numpy as np\n",
        "import pandas as pd\n",
        "import seaborn as sns\n",
        "import matplotlib.pyplot as plt\n",
        "import datetime as datetime\n",
        "import warnings\n",
        "warnings.filterwarnings('ignore')\n",
        "\n",
        "# Imports para ML\n",
        "from sklearn.tree import DecisionTreeClassifier\n",
        "from sklearn.model_selection import train_test_split, cross_validate, StratifiedKFold\n",
        "from sklearn.metrics import accuracy_score, precision_score, recall_score, f1_score, confusion_matrix, make_scorer\n",
        "import time\n",
        "import psutil\n",
        "from memory_profiler import memory_usage"
      ]
    },
    {
      "cell_type": "code",
      "execution_count": 5,
      "metadata": {
        "id": "dt_load_kaggle"
      },
      "outputs": [
        {
          "name": "stdout",
          "output_type": "stream",
          "text": [
            "Path to dataset files: /Users/gustavocoradin/.cache/kagglehub/datasets/usdot/flight-delays/versions/1\n"
          ]
        }
      ],
      "source": [
        "# Carregamento do dataset do Kaggle\n",
        "import kagglehub\n",
        "\n",
        "path = kagglehub.dataset_download(\"usdot/flight-delays\")\n",
        "print(\"Path to dataset files:\", path)"
      ]
    },
    {
      "cell_type": "code",
      "execution_count": 6,
      "metadata": {
        "id": "dt_load_data"
      },
      "outputs": [
        {
          "name": "stdout",
          "output_type": "stream",
          "text": [
            "Dataset carregado com shape: (5819079, 31)\n",
            "Colunas: ['YEAR', 'MONTH', 'DAY', 'DAY_OF_WEEK', 'AIRLINE', 'FLIGHT_NUMBER', 'TAIL_NUMBER', 'ORIGIN_AIRPORT', 'DESTINATION_AIRPORT', 'SCHEDULED_DEPARTURE', 'DEPARTURE_TIME', 'DEPARTURE_DELAY', 'TAXI_OUT', 'WHEELS_OFF', 'SCHEDULED_TIME', 'ELAPSED_TIME', 'AIR_TIME', 'DISTANCE', 'WHEELS_ON', 'TAXI_IN', 'SCHEDULED_ARRIVAL', 'ARRIVAL_TIME', 'ARRIVAL_DELAY', 'DIVERTED', 'CANCELLED', 'CANCELLATION_REASON', 'AIR_SYSTEM_DELAY', 'SECURITY_DELAY', 'AIRLINE_DELAY', 'LATE_AIRCRAFT_DELAY', 'WEATHER_DELAY']\n"
          ]
        }
      ],
      "source": [
        "# Carregamento dos dados\n",
        "df = pd.read_csv(path + \"/flights.csv\")\n",
        "print(f\"Dataset carregado com shape: {df.shape}\")\n",
        "print(f\"Colunas: {list(df.columns)}\")"
      ]
    },
    {
      "cell_type": "code",
      "execution_count": 7,
      "metadata": {
        "id": "dt_data_cleaning"
      },
      "outputs": [
        {
          "name": "stdout",
          "output_type": "stream",
          "text": [
            "Valores nulos por coluna (%):\n",
            "YEAR                    0.000000\n",
            "MONTH                   0.000000\n",
            "DAY                     0.000000\n",
            "DAY_OF_WEEK             0.000000\n",
            "AIRLINE                 0.000000\n",
            "FLIGHT_NUMBER           0.000000\n",
            "TAIL_NUMBER             0.252978\n",
            "ORIGIN_AIRPORT          0.000000\n",
            "DESTINATION_AIRPORT     0.000000\n",
            "SCHEDULED_DEPARTURE     0.000000\n",
            "DEPARTURE_TIME          1.480526\n",
            "DEPARTURE_DELAY         1.480526\n",
            "TAXI_OUT                1.530259\n",
            "WHEELS_OFF              1.530259\n",
            "SCHEDULED_TIME          0.000103\n",
            "ELAPSED_TIME            1.805629\n",
            "AIR_TIME                1.805629\n",
            "DISTANCE                0.000000\n",
            "WHEELS_ON               1.589822\n",
            "TAXI_IN                 1.589822\n",
            "SCHEDULED_ARRIVAL       0.000000\n",
            "ARRIVAL_TIME            1.589822\n",
            "ARRIVAL_DELAY           1.805629\n",
            "DIVERTED                0.000000\n",
            "CANCELLED               0.000000\n",
            "CANCELLATION_REASON    98.455357\n",
            "AIR_SYSTEM_DELAY       81.724960\n",
            "SECURITY_DELAY         81.724960\n",
            "AIRLINE_DELAY          81.724960\n",
            "LATE_AIRCRAFT_DELAY    81.724960\n",
            "WEATHER_DELAY          81.724960\n",
            "dtype: float64\n",
            "\n",
            "Shape após limpeza: (5714008, 24)\n",
            "\n",
            "Valores nulos restantes (%):\n",
            "YEAR                   0.0\n",
            "MONTH                  0.0\n",
            "DAY                    0.0\n",
            "DAY_OF_WEEK            0.0\n",
            "SCHEDULED_DEPARTURE    0.0\n",
            "DEPARTURE_TIME         0.0\n",
            "DEPARTURE_DELAY        0.0\n",
            "TAXI_OUT               0.0\n",
            "WHEELS_OFF             0.0\n",
            "SCHEDULED_TIME         0.0\n",
            "ELAPSED_TIME           0.0\n",
            "AIR_TIME               0.0\n",
            "DISTANCE               0.0\n",
            "WHEELS_ON              0.0\n",
            "TAXI_IN                0.0\n",
            "SCHEDULED_ARRIVAL      0.0\n",
            "ARRIVAL_TIME           0.0\n",
            "ARRIVAL_DELAY          0.0\n",
            "DIVERTED               0.0\n",
            "AIR_SYSTEM_DELAY       0.0\n",
            "SECURITY_DELAY         0.0\n",
            "AIRLINE_DELAY          0.0\n",
            "LATE_AIRCRAFT_DELAY    0.0\n",
            "WEATHER_DELAY          0.0\n",
            "dtype: float64\n"
          ]
        }
      ],
      "source": [
        "# Limpeza inicial dos dados\n",
        "print(\"Valores nulos por coluna (%):\")\n",
        "print(df.isna().sum() * 100 / len(df))\n",
        "\n",
        "# Preenchendo NaN com 0 para colunas de atraso (0 significa ausência de atraso)\n",
        "delay_reason_cols = ['AIR_SYSTEM_DELAY', 'SECURITY_DELAY', 'AIRLINE_DELAY', 'LATE_AIRCRAFT_DELAY', 'WEATHER_DELAY']\n",
        "df[delay_reason_cols] = df[delay_reason_cols].fillna(0)\n",
        "\n",
        "# Removendo colunas desnecessárias\n",
        "df.drop(['CANCELLATION_REASON', 'FLIGHT_NUMBER', 'CANCELLED'], axis=1, inplace=True, errors='ignore')\n",
        "\n",
        "# Removendo TAIL_NUMBER devido a sua alta cardinalidade\n",
        "df.drop('TAIL_NUMBER', axis=1, inplace=True)\n",
        "\n",
        "# Removendo ORIGIN_AIRPORT, DESTINATION_AIRPORT, AIRLINE pois apresentam pouco ganho de\n",
        "# informação para o modelo e deixam o dataset muito esparso\n",
        "df.drop(['ORIGIN_AIRPORT', 'DESTINATION_AIRPORT', 'AIRLINE'], axis=1, inplace=True, errors='ignore')\n",
        "\n",
        "# Removendo linhas com valores nulos nas colunas críticas\n",
        "df = df.dropna(subset=['DEPARTURE_TIME','DEPARTURE_DELAY','TAXI_OUT','WHEELS_OFF','SCHEDULED_TIME','ELAPSED_TIME','AIR_TIME','WHEELS_ON','TAXI_IN','ARRIVAL_TIME','ARRIVAL_DELAY'])\n",
        "\n",
        "print(f\"\\nShape após limpeza: {df.shape}\")\n",
        "print(\"\\nValores nulos restantes (%):\")\n",
        "print(df.isna().sum() * 100 / len(df))"
      ]
    },
    {
      "cell_type": "code",
      "execution_count": 8,
      "metadata": {
        "id": "dt_create_target"
      },
      "outputs": [
        {
          "name": "stdout",
          "output_type": "stream",
          "text": [
            "Não atrasados: 4.690.510\n",
            "Atrasados: 1.023.498\n",
            "Percentual de voos não atrasados: 82.09%\n",
            "Percentual de voos atrasados: 17.91%\n"
          ]
        }
      ],
      "source": [
        "# Criando a variável target DELAYED\n",
        "# Voo é considerado atrasado se ARRIVAL_DELAY > 15 minutos\n",
        "df['DELAYED'] = df['ARRIVAL_DELAY'].apply(lambda x: 1 if x > 15 else 0)\n",
        "\n",
        "# Verificando distribuição das classes\n",
        "delay = df[df['DELAYED'] == 1]\n",
        "on_time = df[df['DELAYED'] == 0]\n",
        "\n",
        "delay_count = delay.shape[0]\n",
        "on_time_count = on_time.shape[0]\n",
        "total = delay_count + on_time_count\n",
        "delay_percentage = (delay_count / total) * 100\n",
        "on_time_percentage = (on_time_count / total) * 100\n",
        "\n",
        "print(f\"Não atrasados: {on_time_count:,}\".replace(\",\", \".\"))\n",
        "print(f\"Atrasados: {delay_count:,}\".replace(\",\", \".\"))\n",
        "print(f\"Percentual de voos não atrasados: {on_time_percentage:.2f}%\")\n",
        "print(f\"Percentual de voos atrasados: {delay_percentage:.2f}%\")"
      ]
    },
    {
      "cell_type": "code",
      "execution_count": 9,
      "metadata": {
        "id": "dt_undersampling"
      },
      "outputs": [
        {
          "name": "stdout",
          "output_type": "stream",
          "text": [
            "\n",
            "Após undersampling:\n",
            "Não atrasados: 1.023.498\n",
            "Atrasados: 1.023.498\n",
            "Percentual de voos não atrasados: 50.00%\n",
            "Percentual de voos atrasados: 50.00%\n",
            "Shape do dataset balanceado: (2046996, 25)\n"
          ]
        }
      ],
      "source": [
        "# Undersampling para balancear as classes\n",
        "from imblearn.under_sampling import RandomUnderSampler\n",
        "\n",
        "X = df.drop(columns=['DELAYED'])\n",
        "y = df['DELAYED']\n",
        "\n",
        "rus = RandomUnderSampler(random_state=42)\n",
        "X_resampled, y_resampled = rus.fit_resample(X, y)\n",
        "\n",
        "df_undersampled = pd.concat([X_resampled, y_resampled], axis=1)\n",
        "\n",
        "# Verificando nova distribuição\n",
        "on_time_count = (df_undersampled['DELAYED'] == 0).sum()\n",
        "delay_count = (df_undersampled['DELAYED'] == 1).sum()\n",
        "total = on_time_count + delay_count\n",
        "on_time_percentage = (on_time_count / total) * 100\n",
        "delay_percentage = (delay_count / total) * 100\n",
        "\n",
        "print(f\"\\nApós undersampling:\")\n",
        "print(f\"Não atrasados: {on_time_count:,}\".replace(\",\", \".\"))\n",
        "print(f\"Atrasados: {delay_count:,}\".replace(\",\", \".\"))\n",
        "print(f\"Percentual de voos não atrasados: {on_time_percentage:.2f}%\")\n",
        "print(f\"Percentual de voos atrasados: {delay_percentage:.2f}%\")\n",
        "print(f\"Shape do dataset balanceado: {df_undersampled.shape}\")"
      ]
    },
    {
      "cell_type": "markdown",
      "metadata": {
        "id": "dt_data_leakage"
      },
      "source": [
        "## Correção de Vazamento de Dados (Data Leakage)\n",
        "\n",
        "### Problema Identificado:\n",
        "O dataset original contém features que só estariam disponíveis **APÓS** o evento que queremos prever (atraso do voo). Isso causa vazamento temporal de dados.\n",
        "\n",
        "### Features Problemáticas:\n",
        "**Grupo 1: Target e informações pós-voo**\n",
        "- `ARRIVAL_DELAY` - É o target que queremos prever\n",
        "- `ARRIVAL_TIME` - Só conhecido após o voo\n",
        "- `WHEELS_ON` - Só conhecido após o voo\n",
        "- `TAXI_IN` - Só conhecido após o voo\n",
        "\n",
        "**Grupo 2: Informações pós-decolagem**\n",
        "- `DEPARTURE_TIME` - Pode causar vazamento\n",
        "- `DEPARTURE_DELAY` - Pode causar vazamento\n",
        "- `WHEELS_OFF` - Só conhecido após decolagem\n",
        "- `TAXI_OUT` - Só conhecido após decolagem\n",
        "- `ELAPSED_TIME` - Só conhecido após o voo\n",
        "- `AIR_TIME` - Só conhecido após o voo\n",
        "\n",
        "**Grupo 3: CRÍTICO - Categorias de atraso (MAJOR DATA LEAKAGE!)**\n",
        "- `AIR_SYSTEM_DELAY` - Só preenchido APÓS atraso acontecer\n",
        "- `SECURITY_DELAY` - Só preenchido APÓS atraso acontecer\n",
        "- `AIRLINE_DELAY` - Só preenchido APÓS atraso acontecer\n",
        "- `LATE_AIRCRAFT_DELAY` - Só preenchido APÓS atraso acontecer\n",
        "- `WEATHER_DELAY` - Só preenchido APÓS atraso acontecer\n",
        "\n",
        "⚠️ **As colunas de delay específico são preenchidas apenas quando um atraso JÁ ACONTECEU, tornando a predição trivial!**"
      ]
    },
    {
      "cell_type": "code",
      "execution_count": 10,
      "metadata": {
        "id": "dt_remove_leakage"
      },
      "outputs": [
        {
          "name": "stdout",
          "output_type": "stream",
          "text": [
            "Removendo 15 colunas com vazamento temporal:\n",
            "['ARRIVAL_DELAY', 'ARRIVAL_TIME', 'WHEELS_ON', 'TAXI_IN', 'DEPARTURE_TIME', 'DEPARTURE_DELAY', 'WHEELS_OFF', 'TAXI_OUT', 'ELAPSED_TIME', 'AIR_TIME', 'AIR_SYSTEM_DELAY', 'SECURITY_DELAY', 'AIRLINE_DELAY', 'LATE_AIRCRAFT_DELAY', 'WEATHER_DELAY']\n",
            "\n",
            "Shape após remoção de vazamento: (2046996, 10)\n",
            "Colunas restantes: ['YEAR', 'MONTH', 'DAY', 'DAY_OF_WEEK', 'SCHEDULED_DEPARTURE', 'SCHEDULED_TIME', 'DISTANCE', 'SCHEDULED_ARRIVAL', 'DIVERTED', 'DELAYED']\n"
          ]
        }
      ],
      "source": [
        "# REMOVENDO FEATURES COM VAZAMENTO TEMPORAL (informações disponíveis apenas após o voo)\n",
        "temporal_leakage_cols = [\n",
        "    'ARRIVAL_DELAY',    # Target leakage - é o que queremos prever\n",
        "    'ARRIVAL_TIME',     # Só conhecido após o voo\n",
        "    'WHEELS_ON',        # Só conhecido após o voo  \n",
        "    'TAXI_IN',          # Só conhecido após o voo\n",
        "    'DEPARTURE_TIME',   # Pode ser conhecido, mas vamos ser conservadores\n",
        "    'DEPARTURE_DELAY',  # Pode causar vazamento\n",
        "    'WHEELS_OFF',       # Só conhecido após decolagem\n",
        "    'TAXI_OUT',         # Só conhecido após decolagem\n",
        "    'ELAPSED_TIME',     # Só conhecido após o voo\n",
        "    'AIR_TIME',         # Só conhecido após o voo\n",
        "    # CRÍTICO: Categorias de atraso só conhecidas APÓS o atraso acontecer!\n",
        "    'AIR_SYSTEM_DELAY', # Só preenchido APÓS atraso por sistema aéreo\n",
        "    'SECURITY_DELAY',   # Só preenchido APÓS atraso por segurança\n",
        "    'AIRLINE_DELAY',    # Só preenchido APÓS atraso da companhia\n",
        "    'LATE_AIRCRAFT_DELAY', # Só preenchido APÓS atraso por aeronave anterior\n",
        "    'WEATHER_DELAY'     # Só preenchido APÓS atraso por clima\n",
        "]\n",
        "\n",
        "print(f\"Removendo {len(temporal_leakage_cols)} colunas com vazamento temporal:\")\n",
        "print(temporal_leakage_cols)\n",
        "df_undersampled = df_undersampled.drop(columns=temporal_leakage_cols, errors='ignore')\n",
        "\n",
        "print(f\"\\nShape após remoção de vazamento: {df_undersampled.shape}\")\n",
        "print(f\"Colunas restantes: {list(df_undersampled.columns)}\")"
      ]
    },
    {
      "cell_type": "markdown",
      "metadata": {
        "id": "dt_sampling"
      },
      "source": [
        "## Amostragem dos Dados\n",
        "\n",
        "Mantendo consistência com o KNN: 100k amostras (50k de cada classe) para comparação justa."
      ]
    },
    {
      "cell_type": "code",
      "execution_count": 11,
      "metadata": {
        "id": "dt_sample_data"
      },
      "outputs": [
        {
          "name": "stdout",
          "output_type": "stream",
          "text": [
            "Shape do DataFrame original: (2046996, 10)\n",
            "Shape do DataFrame amostrado: (2000000, 10)\n",
            "\n",
            "Distribuição da classe 'DELAYED' no DataFrame amostrado:\n",
            "DELAYED\n",
            "0    1000000\n",
            "1    1000000\n",
            "Name: count, dtype: int64\n"
          ]
        }
      ],
      "source": [
        "# Pegando samples de 100k (50k de cada classe) para manter consistência com KNN\n",
        "df_delayed = df_undersampled[df_undersampled['DELAYED'] == 1]\n",
        "df_on_time = df_undersampled[df_undersampled['DELAYED'] == 0]\n",
        "\n",
        "# Definir o tamanho da amostra para cada classe\n",
        "sample_size_per_class = 1000000\n",
        "\n",
        "# Amostrar aleatoriamente 50k de cada classe\n",
        "df_delayed_sample = df_delayed.sample(n=sample_size_per_class, random_state=42)\n",
        "df_on_time_sample = df_on_time.sample(n=sample_size_per_class, random_state=42)\n",
        "\n",
        "# Combinar as amostras\n",
        "df_sample = pd.concat([df_delayed_sample, df_on_time_sample])\n",
        "\n",
        "# Embaralhar o DataFrame resultante para misturar as classes\n",
        "df_sample = df_sample.sample(frac=1, random_state=42).reset_index(drop=True)\n",
        "\n",
        "print(\"Shape do DataFrame original:\", df_undersampled.shape)\n",
        "print(\"Shape do DataFrame amostrado:\", df_sample.shape)\n",
        "print(\"\\nDistribuição da classe 'DELAYED' no DataFrame amostrado:\")\n",
        "print(df_sample['DELAYED'].value_counts())"
      ]
    },
    {
      "cell_type": "markdown",
      "metadata": {
        "id": "dt_train_test_split"
      },
      "source": [
        "## Divisão dos Dados\n",
        "\n",
        "Separar o DataFrame amostrado em conjuntos de treino e teste (70/30) com amostragem estratificada."
      ]
    },
    {
      "cell_type": "code",
      "execution_count": 12,
      "metadata": {
        "id": "dt_split_data"
      },
      "outputs": [
        {
          "name": "stdout",
          "output_type": "stream",
          "text": [
            "Tamanho do conjunto de treino: 1400000\n",
            "Tamanho do conjunto de teste: 600000\n",
            "Distribuição no treino: {1: 700000, 0: 700000}\n",
            "Distribuição no teste: {0: 300000, 1: 300000}\n"
          ]
        }
      ],
      "source": [
        "X_sample = df_sample.drop(columns=['DELAYED'])\n",
        "y_sample = df_sample['DELAYED']\n",
        "\n",
        "# Hold-out 70% treino, 30% teste com amostragem estratificada\n",
        "X_train, X_test, y_train, y_test = train_test_split(\n",
        "    X_sample, y_sample,\n",
        "    test_size=0.3,\n",
        "    stratify=y_sample,\n",
        "    random_state=42\n",
        ")\n",
        "\n",
        "print(f\"Tamanho do conjunto de treino: {X_train.shape[0]}\")\n",
        "print(f\"Tamanho do conjunto de teste: {X_test.shape[0]}\")\n",
        "print(f\"Distribuição no treino: {y_train.value_counts().to_dict()}\")\n",
        "print(f\"Distribuição no teste: {y_test.value_counts().to_dict()}\")"
      ]
    },
    {
      "cell_type": "markdown",
      "metadata": {
        "id": "dt_train_model"
      },
      "source": [
        "## Treinamento do Decision Tree\n",
        "\n",
        "Treinar um modelo Decision Tree usando os dados de treino com os hiperparâmetros especificados."
      ]
    },
    {
      "cell_type": "code",
      "execution_count": 13,
      "metadata": {
        "id": "dt_train"
      },
      "outputs": [
        {
          "name": "stdout",
          "output_type": "stream",
          "text": [
            "Tempo de Treinamento: 3.7827 segundos\n",
            "Modelo treinado com max_depth=10 e criterion='gini'\n"
          ]
        }
      ],
      "source": [
        "# Configuração do Decision Tree conforme especificação\n",
        "dt = DecisionTreeClassifier(\n",
        "    max_depth=10,\n",
        "    criterion='gini',\n",
        "    random_state=42\n",
        ")\n",
        "\n",
        "# Medindo tempo de treinamento\n",
        "start_time_train = time.time()\n",
        "dt.fit(X_train, y_train)\n",
        "end_time_train = time.time()\n",
        "\n",
        "training_time = end_time_train - start_time_train\n",
        "print(f\"Tempo de Treinamento: {training_time:.4f} segundos\")\n",
        "print(f\"Modelo treinado com max_depth={dt.max_depth} e criterion='{dt.criterion}'\")"
      ]
    },
    {
      "cell_type": "markdown",
      "metadata": {
        "id": "dt_predictions"
      },
      "source": [
        "## Fazer Previsões\n",
        "\n",
        "Usar o modelo treinado para fazer previsões no conjunto de teste."
      ]
    },
    {
      "cell_type": "code",
      "execution_count": 14,
      "metadata": {
        "id": "dt_predict"
      },
      "outputs": [
        {
          "name": "stdout",
          "output_type": "stream",
          "text": [
            "Tempo de Predição: 0.0677 segundos\n",
            "Predições realizadas para 600000 amostras\n"
          ]
        }
      ],
      "source": [
        "# Medindo tempo de predição\n",
        "start_time_pred = time.time()\n",
        "y_pred = dt.predict(X_test)\n",
        "end_time_pred = time.time()\n",
        "\n",
        "prediction_time = end_time_pred - start_time_pred\n",
        "print(f\"Tempo de Predição: {prediction_time:.4f} segundos\")\n",
        "print(f\"Predições realizadas para {len(X_test)} amostras\")"
      ]
    },
    {
      "cell_type": "markdown",
      "metadata": {
        "id": "dt_evaluation"
      },
      "source": [
        "## Avaliação do Modelo\n",
        "\n",
        "Calcular as métricas de desempenho do modelo comparando as previsões com os valores reais do conjunto de teste."
      ]
    },
    {
      "cell_type": "code",
      "execution_count": 15,
      "metadata": {
        "id": "dt_metrics"
      },
      "outputs": [
        {
          "name": "stdout",
          "output_type": "stream",
          "text": [
            "=== MÉTRICAS NO CONJUNTO DE TESTE ===\n",
            "Acurácia: 0.6234\n",
            "Precisão: 0.6264\n",
            "Recall (TPR): 0.6114\n",
            "F1-score: 0.6188\n",
            "True Negative Rate (TNR): 0.6354\n",
            "\n",
            "Matriz de Confusão:\n",
            "[[190620 109380]\n",
            " [116593 183407]]\n"
          ]
        }
      ],
      "source": [
        "# Métricas no conjunto de teste\n",
        "accuracy = accuracy_score(y_test, y_pred)\n",
        "precision = precision_score(y_test, y_pred)\n",
        "recall = recall_score(y_test, y_pred)\n",
        "f1 = f1_score(y_test, y_pred)\n",
        "\n",
        "tn, fp, fn, tp = confusion_matrix(y_test, y_pred).ravel()\n",
        "\n",
        "tpr = recall  # mesmo que tp / (tp + fn)\n",
        "tnr = tn / (tn + fp)\n",
        "\n",
        "cm = confusion_matrix(y_test, y_pred)\n",
        "\n",
        "print(\"=== MÉTRICAS NO CONJUNTO DE TESTE ===\")\n",
        "print(f\"Acurácia: {accuracy:.4f}\")\n",
        "print(f\"Precisão: {precision:.4f}\")\n",
        "print(f\"Recall (TPR): {recall:.4f}\")\n",
        "print(f\"F1-score: {f1:.4f}\")\n",
        "print(f\"True Negative Rate (TNR): {tnr:.4f}\")\n",
        "print(\"\\nMatriz de Confusão:\")\n",
        "print(cm)"
      ]
    },
    {
      "cell_type": "code",
      "execution_count": 16,
      "metadata": {
        "id": "dt_train_metrics"
      },
      "outputs": [
        {
          "name": "stdout",
          "output_type": "stream",
          "text": [
            "=== MÉTRICAS NO CONJUNTO DE TREINO ===\n",
            "Acurácia: 0.6259\n",
            "Precisão: 0.6291\n",
            "Recall (TPR): 0.6133\n",
            "F1-score: 0.6211\n",
            "True Negative Rate (TNR): 0.6384\n",
            "\n",
            "=== COMPARAÇÃO TREINO vs TESTE ===\n",
            "Diferença de Acurácia: 0.0025\n",
            "Diferença de F1-score: 0.0023\n",
            "\n",
            "✅ Modelo parece estar generalizando bem.\n",
            "Diferença de acurácia treino-teste: 0.0025\n"
          ]
        }
      ],
      "source": [
        "# Métricas no conjunto de treino para detectar overfitting\n",
        "y_train_pred = dt.predict(X_train)\n",
        "\n",
        "accuracy_train = accuracy_score(y_train, y_train_pred)\n",
        "precision_train = precision_score(y_train, y_train_pred)\n",
        "recall_train = recall_score(y_train, y_train_pred)\n",
        "f1_train = f1_score(y_train, y_train_pred)\n",
        "tn, fp, fn, tp = confusion_matrix(y_train, y_train_pred).ravel()\n",
        "tpr_train = recall_train\n",
        "tnr_train = tn / (tn + fp)\n",
        "\n",
        "print(\"=== MÉTRICAS NO CONJUNTO DE TREINO ===\")\n",
        "print(f\"Acurácia: {accuracy_train:.4f}\")\n",
        "print(f\"Precisão: {precision_train:.4f}\")\n",
        "print(f\"Recall (TPR): {recall_train:.4f}\")\n",
        "print(f\"F1-score: {f1_train:.4f}\")\n",
        "print(f\"True Negative Rate (TNR): {tnr_train:.4f}\")\n",
        "\n",
        "print(\"\\n=== COMPARAÇÃO TREINO vs TESTE ===\")\n",
        "print(f\"Diferença de Acurácia: {accuracy_train - accuracy:.4f}\")\n",
        "print(f\"Diferença de F1-score: {f1_train - f1:.4f}\")\n",
        "\n",
        "# Detectando overfitting\n",
        "acc_diff = accuracy_train - accuracy\n",
        "if acc_diff > 0.05:\n",
        "    print(f\"\\n⚠️  POSSÍVEL OVERFITTING DETECTADO!\")\n",
        "    print(f\"Diferença de acurácia treino-teste: {acc_diff:.4f}\")\n",
        "else:\n",
        "    print(f\"\\n✅ Modelo parece estar generalizando bem.\")\n",
        "    print(f\"Diferença de acurácia treino-teste: {acc_diff:.4f}\")"
      ]
    },
    {
      "cell_type": "markdown",
      "metadata": {
        "id": "dt_cross_validation"
      },
      "source": [
        "## Validação Cruzada\n",
        "\n",
        "Executar validação cruzada 5-folds para uma avaliação mais robusta do modelo."
      ]
    },
    {
      "cell_type": "code",
      "execution_count": 17,
      "metadata": {
        "id": "dt_cv"
      },
      "outputs": [
        {
          "name": "stdout",
          "output_type": "stream",
          "text": [
            "\n",
            "==================================================\n",
            "VALIDAÇÃO CRUZADA 5-FOLDS - DECISION TREE\n",
            "==================================================\n",
            "Acurácia - Treino: 0.6249 ± 0.0004\n",
            "Acurácia - Validação: 0.6217 ± 0.0007\n",
            "Precisão - Treino: 0.6243 ± 0.0013\n",
            "Precisão - Validação: 0.6211 ± 0.0013\n",
            "Recall - Treino: 0.6271 ± 0.0041\n",
            "Recall - Validação: 0.6239 ± 0.0040\n",
            "F1-score - Treino: 0.6257 ± 0.0014\n",
            "F1-score - Validação: 0.6225 ± 0.0015\n",
            "\n",
            "✅ Modelo generalizando bem na validação cruzada.\n",
            "Diferença de acurácia treino-validação: 0.0032\n"
          ]
        }
      ],
      "source": [
        "print(\"\\n\" + \"=\"*50)\n",
        "print(\"VALIDAÇÃO CRUZADA 5-FOLDS - DECISION TREE\")\n",
        "print(\"=\"*50)\n",
        "\n",
        "# Configuração da validação cruzada\n",
        "cv = StratifiedKFold(n_splits=5, shuffle=True, random_state=42)\n",
        "\n",
        "scoring = {\n",
        "    'accuracy': make_scorer(accuracy_score),\n",
        "    'precision': make_scorer(precision_score),\n",
        "    'recall': make_scorer(recall_score),\n",
        "    'f1': make_scorer(f1_score)\n",
        "}\n",
        "\n",
        "# Executando validação cruzada\n",
        "dt_cv = DecisionTreeClassifier(max_depth=10, criterion='gini', random_state=42)\n",
        "cv_results = cross_validate(dt_cv, X_sample, y_sample, cv=cv, scoring=scoring, return_train_score=True)\n",
        "\n",
        "print(f\"Acurácia - Treino: {cv_results['train_accuracy'].mean():.4f} ± {cv_results['train_accuracy'].std():.4f}\")\n",
        "print(f\"Acurácia - Validação: {cv_results['test_accuracy'].mean():.4f} ± {cv_results['test_accuracy'].std():.4f}\")\n",
        "print(f\"Precisão - Treino: {cv_results['train_precision'].mean():.4f} ± {cv_results['train_precision'].std():.4f}\")\n",
        "print(f\"Precisão - Validação: {cv_results['test_precision'].mean():.4f} ± {cv_results['test_precision'].std():.4f}\")\n",
        "print(f\"Recall - Treino: {cv_results['train_recall'].mean():.4f} ± {cv_results['train_recall'].std():.4f}\")\n",
        "print(f\"Recall - Validação: {cv_results['test_recall'].mean():.4f} ± {cv_results['test_recall'].std():.4f}\")\n",
        "print(f\"F1-score - Treino: {cv_results['train_f1'].mean():.4f} ± {cv_results['train_f1'].std():.4f}\")\n",
        "print(f\"F1-score - Validação: {cv_results['test_f1'].mean():.4f} ± {cv_results['test_f1'].std():.4f}\")\n",
        "\n",
        "# Detectando overfitting na validação cruzada\n",
        "cv_acc_diff = cv_results['train_accuracy'].mean() - cv_results['test_accuracy'].mean()\n",
        "if cv_acc_diff > 0.05:\n",
        "    print(f\"\\n⚠️  POSSÍVEL OVERFITTING DETECTADO NA VALIDAÇÃO CRUZADA!\")\n",
        "    print(f\"Diferença de acurácia treino-validação: {cv_acc_diff:.4f}\")\n",
        "else:\n",
        "    print(f\"\\n✅ Modelo generalizando bem na validação cruzada.\")\n",
        "    print(f\"Diferença de acurácia treino-validação: {cv_acc_diff:.4f}\")"
      ]
    },
    {
      "cell_type": "markdown",
      "metadata": {
        "id": "dt_computational_performance"
      },
      "source": [
        "## Análise de Desempenho Computacional\n",
        "\n",
        "Medir e analisar o desempenho computacional do Decision Tree incluindo tempo, memória e throughput."
      ]
    },
    {
      "cell_type": "code",
      "execution_count": 18,
      "metadata": {
        "id": "dt_performance"
      },
      "outputs": [
        {
          "name": "stdout",
          "output_type": "stream",
          "text": [
            "\n",
            "==================================================\n",
            "ANÁLISE DE DESEMPENHO COMPUTACIONAL - DECISION TREE\n",
            "==================================================\n",
            "🕒 Tempo de Treinamento: 4.0004 s\n",
            "🕒 Tempo de Predição: 0.6333 s\n",
            "📈 Memória (Treinamento): 508.31 MB\n",
            "📈 Memória (Predição): 413.58 MB\n",
            "⚙️ CPU usada na predição: 23.50%\n",
            "📊 Instâncias por segundo (treinamento): 349966.50\n",
            "📊 Instâncias por segundo (predição): 947452.43\n",
            "\n",
            "📈 THROUGHPUT PARA CENÁRIOS REAIS:\n",
            "Predições por segundo: 947452\n",
            "Predições por minuto: 56847146\n",
            "Predições por hora: 3410828742\n",
            "Predições por dia: 81859889818\n"
          ]
        }
      ],
      "source": [
        "process = psutil.Process()\n",
        "\n",
        "# Definindo o classificador Decision Tree\n",
        "dt_perf = DecisionTreeClassifier(max_depth=10, criterion='gini', random_state=42)\n",
        "\n",
        "# Função de treinamento\n",
        "def train_dt_model():\n",
        "    dt_perf.fit(X_train, y_train)\n",
        "\n",
        "# Medindo desempenho do treinamento\n",
        "start_time_train = time.time()\n",
        "mem_usage_train = memory_usage(train_dt_model)\n",
        "end_time_train = time.time()\n",
        "training_time = end_time_train - start_time_train\n",
        "train_ips = len(X_train) / training_time\n",
        "\n",
        "# Função de predição\n",
        "def predict_dt_model():\n",
        "    global y_pred_perf\n",
        "    y_pred_perf = dt_perf.predict(X_test)\n",
        "\n",
        "# Medindo desempenho da predição\n",
        "cpu_percent_before = process.cpu_percent(interval=None)\n",
        "start_time_pred = time.time()\n",
        "mem_usage_pred = memory_usage(predict_dt_model)\n",
        "end_time_pred = time.time()\n",
        "cpu_percent_after = process.cpu_percent(interval=None)\n",
        "\n",
        "prediction_time = end_time_pred - start_time_pred\n",
        "pred_ips = len(X_test) / prediction_time\n",
        "\n",
        "print(\"\\n\" + \"=\"*50)\n",
        "print(\"ANÁLISE DE DESEMPENHO COMPUTACIONAL - DECISION TREE\")\n",
        "print(\"=\"*50)\n",
        "print(f\"🕒 Tempo de Treinamento: {training_time:.4f} s\")\n",
        "print(f\"🕒 Tempo de Predição: {prediction_time:.4f} s\")\n",
        "print(f\"📈 Memória (Treinamento): {max(mem_usage_train):.2f} MB\")\n",
        "print(f\"📈 Memória (Predição): {max(mem_usage_pred):.2f} MB\")\n",
        "print(f\"⚙️ CPU usada na predição: {cpu_percent_after:.2f}%\")\n",
        "print(f\"📊 Instâncias por segundo (treinamento): {train_ips:.2f}\")\n",
        "print(f\"📊 Instâncias por segundo (predição): {pred_ips:.2f}\")\n",
        "\n",
        "# Calculando throughput para cenários reais\n",
        "daily_predictions = 24 * 60 * 60 * pred_ips  # predições por dia\n",
        "print(f\"\\n📈 THROUGHPUT PARA CENÁRIOS REAIS:\")\n",
        "print(f\"Predições por segundo: {pred_ips:.0f}\")\n",
        "print(f\"Predições por minuto: {pred_ips * 60:.0f}\")\n",
        "print(f\"Predições por hora: {pred_ips * 3600:.0f}\")\n",
        "print(f\"Predições por dia: {daily_predictions:.0f}\")"
      ]
    },
    {
      "cell_type": "markdown",
      "metadata": {
        "id": "dt_summary"
      },
      "source": [
        "## Resumo dos Resultados - Decision Tree\n",
        "\n",
        "### Configuração do Modelo:\n",
        "- **Algoritmo**: Decision Tree\n",
        "- **max_depth**: 10 (controle de overfitting)\n",
        "- **criterion**: 'gini'\n",
        "- **Dataset**: 100k amostras (50k por classe)\n",
        "- **Divisão**: 70% treino, 30% teste\n",
        "\n",
        "### Correções Implementadas:\n",
        "1. **Remoção de vazamento temporal**: Features disponíveis apenas após o voo foram removidas\n",
        "2. **Validação cruzada**: 5-folds para detectar overfitting\n",
        "3. **Análise comparativa**: Métricas de treino vs teste\n",
        "4. **Desempenho computacional**: Tempo, memória e throughput\n",
        "\n",
        "### Vantagens do Decision Tree:\n",
        "- **Interpretabilidade**: Modelo facilmente interpretável\n",
        "- **Velocidade**: Treinamento e predição rápidos\n",
        "- **Sem necessidade de normalização**: Não requer StandardScaler\n",
        "- **Robustez**: Lida bem com features categóricas e numéricas\n",
        "\n",
        "### Limitações Identificadas:\n",
        "- **Overfitting**: Tendência a memorizar dados de treino\n",
        "- **Instabilidade**: Pequenas mudanças nos dados podem alterar a árvore\n",
        "- **Bias**: Pode favorecer features com mais valores únicos\n",
        "\n",
        "### Comparação com KNN:\n",
        "- **Velocidade**: Decision Tree é significativamente mais rápido\n",
        "- **Memória**: Menor uso de memória durante predição\n",
        "- **Interpretabilidade**: Decision Tree é mais interpretável\n",
        "- **Escalabilidade**: Melhor para datasets grandes\n",
        "\n",
        "### Próximos Passos:\n",
        "1. Comparar resultados com outros algoritmos (Random Forest, SVM, etc.)\n",
        "2. Otimizar hiperparâmetros usando Grid Search\n",
        "3. Analisar importância das features\n",
        "4. Implementar ensemble methods para melhorar performance"
      ]
    },
    {
      "cell_type": "code",
      "execution_count": 19,
      "metadata": {
        "id": "dt_feature_importance"
      },
      "outputs": [
        {
          "name": "stdout",
          "output_type": "stream",
          "text": [
            "\n",
            "==================================================\n",
            "IMPORTÂNCIA DAS FEATURES - DECISION TREE\n",
            "==================================================\n",
            "               feature  importance\n",
            "4  SCHEDULED_DEPARTURE    0.366866\n",
            "2                  DAY    0.257956\n",
            "1                MONTH    0.215252\n",
            "3          DAY_OF_WEEK    0.067056\n",
            "7    SCHEDULED_ARRIVAL    0.054296\n",
            "6             DISTANCE    0.022138\n",
            "5       SCHEDULED_TIME    0.016435\n",
            "0                 YEAR    0.000000\n",
            "8             DIVERTED    0.000000\n"
          ]
        },
        {
          "data": {
            "image/png": "[encoded data removed]",
            "text/plain": [
              "<Figure size 1000x600 with 1 Axes>"
            ]
          },
          "metadata": {},
          "output_type": "display_data"
        }
      ],
      "source": [
        "# Análise de importância das features\n",
        "feature_importance = pd.DataFrame({\n",
        "    'feature': X_train.columns,\n",
        "    'importance': dt.feature_importances_\n",
        "}).sort_values('importance', ascending=False)\n",
        "\n",
        "print(\"\\n\" + \"=\"*50)\n",
        "print(\"IMPORTÂNCIA DAS FEATURES - DECISION TREE\")\n",
        "print(\"=\"*50)\n",
        "print(feature_importance.head(10))\n",
        "\n",
        "# Visualização da importância das features\n",
        "plt.figure(figsize=(10, 6))\n",
        "sns.barplot(data=feature_importance.head(10), x='importance', y='feature')\n",
        "plt.title('Top 10 Features Mais Importantes - Decision Tree')\n",
        "plt.xlabel('Importância')\n",
        "plt.ylabel('Features')\n",
        "plt.tight_layout()\n",
        "plt.show()"
      ]
    }
  ],
  "metadata": {
    "colab": {
      "provenance": []
    },
    "kernelspec": {
      "display_name": "Python 3",
      "name": "python3"
    },
    "language_info": {
      "codemirror_mode": {
        "name": "ipython",
        "version": 3
      },
      "file_extension": ".py",
      "mimetype": "text/x-python",
      "name": "python",
      "nbconvert_exporter": "python",
      "pygments_lexer": "ipython3",
      "version": "3.11.6"
    }
  },
  "nbformat": 4,
  "nbformat_minor": 0
}
